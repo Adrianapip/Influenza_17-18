{
 "cells": [
  {
   "cell_type": "markdown",
   "metadata": {},
   "source": [
    "\n",
    "\n",
    "# Question 2: What strains and subtypes were most common in the US in 2017-18?\n",
    "\n",
    "Answering questions 2 and 3 will require retrieving records from sequence databases.\n",
    "\n",
    "#### Data source\n",
    "\n",
    "The datasets in this project are from the [Influenza Research Database](https://www.fludb.org/brc/home.spg?decorator=influenza), a viral data repository that pulls from [NCBI GenBank](https://www.ncbi.nlm.nih.gov/genbank/) and [NCBI RefSeq](https://www.ncbi.nlm.nih.gov/refseq/).\n",
    "\n",
    "I'm going to pull records according to strain, for both flus A and B, and for flu season 17-18.\n",
    "\n",
    "** Note: This analysis is performed only on data from the Influenza Research Database and is not a complete analysis of the 2017-18 flu season as not all US flu cases may have been reported, sequenced and deposited in this database. \n"
   ]
  },
  {
   "cell_type": "markdown",
   "metadata": {},
   "source": [
    "---\n",
    "# Preparing the Data: Moving flu raw data into DataFrames"
   ]
  },
  {
   "cell_type": "code",
   "execution_count": 4,
   "metadata": {},
   "outputs": [],
   "source": [
    "# Import data analysis libraries \n",
    "import numpy as np\n",
    "import pandas as pd\n",
    "\n",
    "# Import visualization libraries\n",
    "import seaborn as sns\n",
    "sns.set_style('whitegrid')\n",
    "sns.set_context('paper', font_scale=1.)\n",
    "import matplotlib.pyplot as plt\n",
    "%matplotlib inline "
   ]
  },
  {
   "cell_type": "code",
   "execution_count": 5,
   "metadata": {},
   "outputs": [
    {
     "data": {
      "text/plain": [
       "Index(['Strain Name', 'Complete Genome', 'Subtype', 'Collection Date', 'Host',\n",
       "       'Country', 'State/Province', 'Geographic Grouping', 'Flu Season',\n",
       "       'Submission Date', 'Passage History', 'Specimen Source Health Status',\n",
       "       '1 PB2', '2 PB1', '3 PA', '4 HA', '5 NP', '6 NA', '7 MP', '8 NS', 'Age',\n",
       "       'Gender', 'M2 31N', 'M2 26F', 'M2 27A', 'M2 30T', 'M2 34E',\n",
       "       'NA 275Y N1', 'NA 292K N2', 'NA 119V N2', 'NA 294S N2', 'PB1-F2 66S',\n",
       "       'PB2 E627K', 'PB2 D701N', 'PB2 A199S', 'PB2 A661T', 'PB2 V667I',\n",
       "       'PB2 K702R', 'PA S409N', 'NP L136M', 'M2 A16G', 'M2 C55F', 'NS1 T92E',\n",
       "       'RERRRKKR', 'Sensitive Drug', 'Resistant Drug', 'Submission Date.1',\n",
       "       'NCBI Taxon ID', 'pH1N1-like', 'US Swine H1 Clade',\n",
       "       'Global Swine H1 Clade test', 'H5 Clade', 'Unnamed: 52'],\n",
       "      dtype='object')"
      ]
     },
     "execution_count": 5,
     "metadata": {},
     "output_type": "execute_result"
    }
   ],
   "source": [
    "# Load the flu datasets and look at the available column names\n",
    "\n",
    "df_fluA = pd.read_csv('fluA_strains.tsv', sep='\\t')\n",
    "df_fluB = pd.read_csv('fluB_strains.tsv', sep='\\t')\n",
    "\n",
    "df_fluA.columns"
   ]
  },
  {
   "cell_type": "markdown",
   "metadata": {},
   "source": [
    "There are plenty of columns to work with, including subtypes to known mutations or drug resistance. I'm going to keep it simple in the beginning before moving onto sequence data and just explore some demographics such as:\n",
    "* subtypes; \n",
    "* locations; and \n",
    "* collection dates. "
   ]
  },
  {
   "cell_type": "code",
   "execution_count": 6,
   "metadata": {},
   "outputs": [
    {
     "data": {
      "text/html": [
       "<div>\n",
       "<style scoped>\n",
       "    .dataframe tbody tr th:only-of-type {\n",
       "        vertical-align: middle;\n",
       "    }\n",
       "\n",
       "    .dataframe tbody tr th {\n",
       "        vertical-align: top;\n",
       "    }\n",
       "\n",
       "    .dataframe thead th {\n",
       "        text-align: right;\n",
       "    }\n",
       "</style>\n",
       "<table border=\"1\" class=\"dataframe\">\n",
       "  <thead>\n",
       "    <tr style=\"text-align: right;\">\n",
       "      <th></th>\n",
       "      <th>Strain Name</th>\n",
       "      <th>Complete Genome</th>\n",
       "      <th>Subtype</th>\n",
       "      <th>Collection Date</th>\n",
       "      <th>Host</th>\n",
       "      <th>Country</th>\n",
       "      <th>State/Province</th>\n",
       "      <th>Geographic Grouping</th>\n",
       "      <th>Flu Season</th>\n",
       "      <th>Submission Date</th>\n",
       "      <th>...</th>\n",
       "      <th>RERRRKKR</th>\n",
       "      <th>Sensitive Drug</th>\n",
       "      <th>Resistant Drug</th>\n",
       "      <th>Submission Date.1</th>\n",
       "      <th>NCBI Taxon ID</th>\n",
       "      <th>pH1N1-like</th>\n",
       "      <th>US Swine H1 Clade</th>\n",
       "      <th>Global Swine H1 Clade test</th>\n",
       "      <th>H5 Clade</th>\n",
       "      <th>Unnamed: 52</th>\n",
       "    </tr>\n",
       "  </thead>\n",
       "  <tbody>\n",
       "    <tr>\n",
       "      <th>0</th>\n",
       "      <td>A/Alabama/01/2018</td>\n",
       "      <td>Yes</td>\n",
       "      <td>H1N1</td>\n",
       "      <td>01/02/2018</td>\n",
       "      <td>Human</td>\n",
       "      <td>USA</td>\n",
       "      <td>Alabama</td>\n",
       "      <td>North America</td>\n",
       "      <td>17-18</td>\n",
       "      <td>2018-03-24</td>\n",
       "      <td>...</td>\n",
       "      <td>No</td>\n",
       "      <td>-N/A-</td>\n",
       "      <td>-N/A-</td>\n",
       "      <td>03/24/2018</td>\n",
       "      <td>11320</td>\n",
       "      <td>Mixed Positive and Negative Segments</td>\n",
       "      <td>npdm</td>\n",
       "      <td>1A.3.3.2</td>\n",
       "      <td>-N/A-</td>\n",
       "      <td>NaN</td>\n",
       "    </tr>\n",
       "    <tr>\n",
       "      <th>1</th>\n",
       "      <td>A/Alabama/02/2018</td>\n",
       "      <td>Yes</td>\n",
       "      <td>H1N1</td>\n",
       "      <td>01/03/2018</td>\n",
       "      <td>Human</td>\n",
       "      <td>USA</td>\n",
       "      <td>Alabama</td>\n",
       "      <td>North America</td>\n",
       "      <td>17-18</td>\n",
       "      <td>2018-03-24</td>\n",
       "      <td>...</td>\n",
       "      <td>No</td>\n",
       "      <td>Oseltamivir,Zanamivir</td>\n",
       "      <td>-N/A-</td>\n",
       "      <td>03/24/2018</td>\n",
       "      <td>11320</td>\n",
       "      <td>Mixed Positive and Negative Segments</td>\n",
       "      <td>npdm</td>\n",
       "      <td>1A.3.3.2</td>\n",
       "      <td>-N/A-</td>\n",
       "      <td>NaN</td>\n",
       "    </tr>\n",
       "    <tr>\n",
       "      <th>2</th>\n",
       "      <td>A/Alabama/03/2018</td>\n",
       "      <td>Yes</td>\n",
       "      <td>H3N2</td>\n",
       "      <td>01/03/2018</td>\n",
       "      <td>Human</td>\n",
       "      <td>USA</td>\n",
       "      <td>Alabama</td>\n",
       "      <td>North America</td>\n",
       "      <td>17-18</td>\n",
       "      <td>2018-03-24</td>\n",
       "      <td>...</td>\n",
       "      <td>No</td>\n",
       "      <td>-N/A-</td>\n",
       "      <td>-N/A-</td>\n",
       "      <td>03/24/2018</td>\n",
       "      <td>11320</td>\n",
       "      <td>Negative</td>\n",
       "      <td>-N/A-</td>\n",
       "      <td>-N/A-</td>\n",
       "      <td>-N/A-</td>\n",
       "      <td>NaN</td>\n",
       "    </tr>\n",
       "  </tbody>\n",
       "</table>\n",
       "<p>3 rows × 53 columns</p>\n",
       "</div>"
      ],
      "text/plain": [
       "         Strain Name Complete Genome Subtype Collection Date   Host Country  \\\n",
       "0  A/Alabama/01/2018             Yes    H1N1      01/02/2018  Human     USA   \n",
       "1  A/Alabama/02/2018             Yes    H1N1      01/03/2018  Human     USA   \n",
       "2  A/Alabama/03/2018             Yes    H3N2      01/03/2018  Human     USA   \n",
       "\n",
       "  State/Province Geographic Grouping Flu Season Submission Date     ...      \\\n",
       "0        Alabama       North America      17-18      2018-03-24     ...       \n",
       "1        Alabama       North America      17-18      2018-03-24     ...       \n",
       "2        Alabama       North America      17-18      2018-03-24     ...       \n",
       "\n",
       "  RERRRKKR         Sensitive Drug Resistant Drug Submission Date.1  \\\n",
       "0       No                  -N/A-          -N/A-        03/24/2018   \n",
       "1       No  Oseltamivir,Zanamivir          -N/A-        03/24/2018   \n",
       "2       No                  -N/A-          -N/A-        03/24/2018   \n",
       "\n",
       "  NCBI Taxon ID                            pH1N1-like US Swine H1 Clade  \\\n",
       "0         11320  Mixed Positive and Negative Segments              npdm   \n",
       "1         11320  Mixed Positive and Negative Segments              npdm   \n",
       "2         11320                              Negative             -N/A-   \n",
       "\n",
       "  Global Swine H1 Clade test H5 Clade Unnamed: 52  \n",
       "0                   1A.3.3.2    -N/A-         NaN  \n",
       "1                   1A.3.3.2    -N/A-         NaN  \n",
       "2                      -N/A-    -N/A-         NaN  \n",
       "\n",
       "[3 rows x 53 columns]"
      ]
     },
     "execution_count": 6,
     "metadata": {},
     "output_type": "execute_result"
    }
   ],
   "source": [
    "# Let's take a look at the first few rows of data for Flu A\n",
    "df_fluA.head(3)"
   ]
  },
  {
   "cell_type": "code",
   "execution_count": 7,
   "metadata": {},
   "outputs": [
    {
     "data": {
      "text/html": [
       "<div>\n",
       "<style scoped>\n",
       "    .dataframe tbody tr th:only-of-type {\n",
       "        vertical-align: middle;\n",
       "    }\n",
       "\n",
       "    .dataframe tbody tr th {\n",
       "        vertical-align: top;\n",
       "    }\n",
       "\n",
       "    .dataframe thead th {\n",
       "        text-align: right;\n",
       "    }\n",
       "</style>\n",
       "<table border=\"1\" class=\"dataframe\">\n",
       "  <thead>\n",
       "    <tr style=\"text-align: right;\">\n",
       "      <th></th>\n",
       "      <th>Strain Name</th>\n",
       "      <th>Complete Genome</th>\n",
       "      <th>Subtype</th>\n",
       "      <th>Collection Date</th>\n",
       "      <th>Host</th>\n",
       "      <th>Country</th>\n",
       "      <th>State/Province</th>\n",
       "      <th>Geographic Grouping</th>\n",
       "      <th>Flu Season</th>\n",
       "      <th>Submission Date</th>\n",
       "      <th>...</th>\n",
       "      <th>RERRRKKR</th>\n",
       "      <th>Sensitive Drug</th>\n",
       "      <th>Resistant Drug</th>\n",
       "      <th>Submission Date.1</th>\n",
       "      <th>NCBI Taxon ID</th>\n",
       "      <th>pH1N1-like</th>\n",
       "      <th>US Swine H1 Clade</th>\n",
       "      <th>Global Swine H1 Clade test</th>\n",
       "      <th>H5 Clade</th>\n",
       "      <th>Unnamed: 52</th>\n",
       "    </tr>\n",
       "  </thead>\n",
       "  <tbody>\n",
       "    <tr>\n",
       "      <th>0</th>\n",
       "      <td>B/Alabama/01/2018</td>\n",
       "      <td>No</td>\n",
       "      <td>-N/A-</td>\n",
       "      <td>01/15/2018</td>\n",
       "      <td>Human</td>\n",
       "      <td>USA</td>\n",
       "      <td>Alabama</td>\n",
       "      <td>North America</td>\n",
       "      <td>17-18</td>\n",
       "      <td>2018-04-02</td>\n",
       "      <td>...</td>\n",
       "      <td>-N/A-</td>\n",
       "      <td>-N/A-</td>\n",
       "      <td>-N/A-</td>\n",
       "      <td>04/02/2018</td>\n",
       "      <td>11520</td>\n",
       "      <td>-N/A-</td>\n",
       "      <td>-N/A-</td>\n",
       "      <td>-N/A-</td>\n",
       "      <td>-N/A-</td>\n",
       "      <td>NaN</td>\n",
       "    </tr>\n",
       "    <tr>\n",
       "      <th>1</th>\n",
       "      <td>B/Alabama/02/2018</td>\n",
       "      <td>Yes</td>\n",
       "      <td>-N/A-</td>\n",
       "      <td>01/22/2018</td>\n",
       "      <td>Human</td>\n",
       "      <td>USA</td>\n",
       "      <td>Alabama</td>\n",
       "      <td>North America</td>\n",
       "      <td>17-18</td>\n",
       "      <td>2018-04-03</td>\n",
       "      <td>...</td>\n",
       "      <td>-N/A-</td>\n",
       "      <td>-N/A-</td>\n",
       "      <td>-N/A-</td>\n",
       "      <td>04/03/2018</td>\n",
       "      <td>11520</td>\n",
       "      <td>-N/A-</td>\n",
       "      <td>-N/A-</td>\n",
       "      <td>-N/A-</td>\n",
       "      <td>-N/A-</td>\n",
       "      <td>NaN</td>\n",
       "    </tr>\n",
       "    <tr>\n",
       "      <th>2</th>\n",
       "      <td>B/Alabama/03/2018</td>\n",
       "      <td>Yes</td>\n",
       "      <td>-N/A-</td>\n",
       "      <td>02/06/2018</td>\n",
       "      <td>Human</td>\n",
       "      <td>USA</td>\n",
       "      <td>Alabama</td>\n",
       "      <td>North America</td>\n",
       "      <td>17-18</td>\n",
       "      <td>2018-04-03</td>\n",
       "      <td>...</td>\n",
       "      <td>-N/A-</td>\n",
       "      <td>-N/A-</td>\n",
       "      <td>-N/A-</td>\n",
       "      <td>04/03/2018</td>\n",
       "      <td>11520</td>\n",
       "      <td>-N/A-</td>\n",
       "      <td>-N/A-</td>\n",
       "      <td>-N/A-</td>\n",
       "      <td>-N/A-</td>\n",
       "      <td>NaN</td>\n",
       "    </tr>\n",
       "  </tbody>\n",
       "</table>\n",
       "<p>3 rows × 53 columns</p>\n",
       "</div>"
      ],
      "text/plain": [
       "         Strain Name Complete Genome Subtype Collection Date   Host Country  \\\n",
       "0  B/Alabama/01/2018              No   -N/A-      01/15/2018  Human     USA   \n",
       "1  B/Alabama/02/2018             Yes   -N/A-      01/22/2018  Human     USA   \n",
       "2  B/Alabama/03/2018             Yes   -N/A-      02/06/2018  Human     USA   \n",
       "\n",
       "  State/Province Geographic Grouping Flu Season Submission Date     ...      \\\n",
       "0        Alabama       North America      17-18      2018-04-02     ...       \n",
       "1        Alabama       North America      17-18      2018-04-03     ...       \n",
       "2        Alabama       North America      17-18      2018-04-03     ...       \n",
       "\n",
       "  RERRRKKR Sensitive Drug Resistant Drug Submission Date.1 NCBI Taxon ID  \\\n",
       "0    -N/A-          -N/A-          -N/A-        04/02/2018         11520   \n",
       "1    -N/A-          -N/A-          -N/A-        04/03/2018         11520   \n",
       "2    -N/A-          -N/A-          -N/A-        04/03/2018         11520   \n",
       "\n",
       "  pH1N1-like US Swine H1 Clade Global Swine H1 Clade test H5 Clade Unnamed: 52  \n",
       "0      -N/A-             -N/A-                      -N/A-    -N/A-         NaN  \n",
       "1      -N/A-             -N/A-                      -N/A-    -N/A-         NaN  \n",
       "2      -N/A-             -N/A-                      -N/A-    -N/A-         NaN  \n",
       "\n",
       "[3 rows x 53 columns]"
      ]
     },
     "execution_count": 7,
     "metadata": {},
     "output_type": "execute_result"
    }
   ],
   "source": [
    "# And here is the first few rows for Flu B\n",
    "df_fluB.head(3)"
   ]
  },
  {
   "cell_type": "markdown",
   "metadata": {},
   "source": [
    "---\n",
    "\n",
    "# Extracting Subtype Data by Month \n",
    "\n",
    "Now that the DataFrames have been loaded, I can view how many records exist and what information they hold. This will help in determining what tables/figures may be appropriate to neatly summariza the data."
   ]
  },
  {
   "cell_type": "code",
   "execution_count": 8,
   "metadata": {},
   "outputs": [
    {
     "name": "stdout",
     "output_type": "stream",
     "text": [
      "<class 'pandas.core.frame.DataFrame'>\n",
      "RangeIndex: 3990 entries, 0 to 3989\n",
      "Data columns (total 53 columns):\n",
      "Strain Name                      3990 non-null object\n",
      "Complete Genome                  3990 non-null object\n",
      "Subtype                          3990 non-null object\n",
      "Collection Date                  3990 non-null object\n",
      "Host                             3990 non-null object\n",
      "Country                          3990 non-null object\n",
      "State/Province                   3990 non-null object\n",
      "Geographic Grouping              3990 non-null object\n",
      "Flu Season                       3990 non-null object\n",
      "Submission Date                  3990 non-null object\n",
      "Passage History                  3990 non-null object\n",
      "Specimen Source Health Status    3990 non-null object\n",
      "1 PB2                            3990 non-null object\n",
      "2 PB1                            3990 non-null object\n",
      "3 PA                             3990 non-null object\n",
      "4 HA                             3990 non-null object\n",
      "5 NP                             3990 non-null object\n",
      "6 NA                             3990 non-null object\n",
      "7 MP                             3990 non-null object\n",
      "8 NS                             3990 non-null object\n",
      "Age                              3990 non-null object\n",
      "Gender                           3990 non-null object\n",
      "M2 31N                           3990 non-null object\n",
      "M2 26F                           3990 non-null object\n",
      "M2 27A                           3990 non-null object\n",
      "M2 30T                           3990 non-null object\n",
      "M2 34E                           3990 non-null object\n",
      "NA 275Y N1                       3990 non-null object\n",
      "NA 292K N2                       3990 non-null object\n",
      "NA 119V N2                       3990 non-null object\n",
      "NA 294S N2                       3990 non-null object\n",
      "PB1-F2 66S                       3990 non-null object\n",
      "PB2 E627K                        3990 non-null object\n",
      "PB2 D701N                        3990 non-null object\n",
      "PB2 A199S                        3990 non-null object\n",
      "PB2 A661T                        3990 non-null object\n",
      "PB2 V667I                        3990 non-null object\n",
      "PB2 K702R                        3990 non-null object\n",
      "PA S409N                         3990 non-null object\n",
      "NP L136M                         3990 non-null object\n",
      "M2 A16G                          3990 non-null object\n",
      "M2 C55F                          3990 non-null object\n",
      "NS1 T92E                         3990 non-null object\n",
      "RERRRKKR                         3990 non-null object\n",
      "Sensitive Drug                   3990 non-null object\n",
      "Resistant Drug                   3990 non-null object\n",
      "Submission Date.1                3990 non-null object\n",
      "NCBI Taxon ID                    3990 non-null int64\n",
      "pH1N1-like                       3990 non-null object\n",
      "US Swine H1 Clade                3990 non-null object\n",
      "Global Swine H1 Clade test       3990 non-null object\n",
      "H5 Clade                         3990 non-null object\n",
      "Unnamed: 52                      0 non-null float64\n",
      "dtypes: float64(1), int64(1), object(51)\n",
      "memory usage: 1.6+ MB\n"
     ]
    }
   ],
   "source": [
    "df_fluA.info()"
   ]
  },
  {
   "cell_type": "markdown",
   "metadata": {},
   "source": [
    "There are about 5k records, and I'd like to limit this investigation to strains collected from Humans. Let's take a look to see if there are any other \"Host\" animals."
   ]
  },
  {
   "cell_type": "code",
   "execution_count": 9,
   "metadata": {},
   "outputs": [
    {
     "data": {
      "text/plain": [
       "array(['Human', 'Mallard', 'Dog', 'Muscovy Duck', 'Crow', 'Mute Swan',\n",
       "       'Ruddy Turnstone', 'Swine', 'Tufted Duck'], dtype=object)"
      ]
     },
     "execution_count": 9,
     "metadata": {},
     "output_type": "execute_result"
    }
   ],
   "source": [
    "df_fluA['Host'].unique()\n"
   ]
  },
  {
   "cell_type": "markdown",
   "metadata": {},
   "source": [
    "Plenty of bird hosts along with the unfortunate dog and pig, so let's make a new database for just human hosts named:\n",
    "\n",
    "df_fluA_Human and df_fluB_Human\n"
   ]
  },
  {
   "cell_type": "code",
   "execution_count": 10,
   "metadata": {},
   "outputs": [
    {
     "name": "stdout",
     "output_type": "stream",
     "text": [
      "<class 'pandas.core.frame.DataFrame'>\n",
      "Int64Index: 3239 entries, 0 to 3989\n",
      "Data columns (total 53 columns):\n",
      "Strain Name                      3239 non-null object\n",
      "Complete Genome                  3239 non-null object\n",
      "Subtype                          3239 non-null object\n",
      "Collection Date                  3239 non-null object\n",
      "Host                             3239 non-null object\n",
      "Country                          3239 non-null object\n",
      "State/Province                   3239 non-null object\n",
      "Geographic Grouping              3239 non-null object\n",
      "Flu Season                       3239 non-null object\n",
      "Submission Date                  3239 non-null object\n",
      "Passage History                  3239 non-null object\n",
      "Specimen Source Health Status    3239 non-null object\n",
      "1 PB2                            3239 non-null object\n",
      "2 PB1                            3239 non-null object\n",
      "3 PA                             3239 non-null object\n",
      "4 HA                             3239 non-null object\n",
      "5 NP                             3239 non-null object\n",
      "6 NA                             3239 non-null object\n",
      "7 MP                             3239 non-null object\n",
      "8 NS                             3239 non-null object\n",
      "Age                              3239 non-null object\n",
      "Gender                           3239 non-null object\n",
      "M2 31N                           3239 non-null object\n",
      "M2 26F                           3239 non-null object\n",
      "M2 27A                           3239 non-null object\n",
      "M2 30T                           3239 non-null object\n",
      "M2 34E                           3239 non-null object\n",
      "NA 275Y N1                       3239 non-null object\n",
      "NA 292K N2                       3239 non-null object\n",
      "NA 119V N2                       3239 non-null object\n",
      "NA 294S N2                       3239 non-null object\n",
      "PB1-F2 66S                       3239 non-null object\n",
      "PB2 E627K                        3239 non-null object\n",
      "PB2 D701N                        3239 non-null object\n",
      "PB2 A199S                        3239 non-null object\n",
      "PB2 A661T                        3239 non-null object\n",
      "PB2 V667I                        3239 non-null object\n",
      "PB2 K702R                        3239 non-null object\n",
      "PA S409N                         3239 non-null object\n",
      "NP L136M                         3239 non-null object\n",
      "M2 A16G                          3239 non-null object\n",
      "M2 C55F                          3239 non-null object\n",
      "NS1 T92E                         3239 non-null object\n",
      "RERRRKKR                         3239 non-null object\n",
      "Sensitive Drug                   3239 non-null object\n",
      "Resistant Drug                   3239 non-null object\n",
      "Submission Date.1                3239 non-null object\n",
      "NCBI Taxon ID                    3239 non-null int64\n",
      "pH1N1-like                       3239 non-null object\n",
      "US Swine H1 Clade                3239 non-null object\n",
      "Global Swine H1 Clade test       3239 non-null object\n",
      "H5 Clade                         3239 non-null object\n",
      "Unnamed: 52                      0 non-null float64\n",
      "dtypes: float64(1), int64(1), object(51)\n",
      "memory usage: 1.3+ MB\n"
     ]
    }
   ],
   "source": [
    "df_fluA_Human = df_fluA[df_fluA['Host'] == 'Human']\n",
    "df_fluB_Human = df_fluB[df_fluB['Host'] == 'Human']\n",
    "df_fluA_Human.info()"
   ]
  },
  {
   "cell_type": "markdown",
   "metadata": {},
   "source": [
    "Now that we have a proper DataFrame containing records from Human infections, let's look at for just Flu A:\n",
    "\n",
    "##### General Info\n",
    "* How many records: 'n_records' \n",
    "* What were the top 5 states reporting: 'top5_states'\n",
    "* What states had lowest reporting: 'bottom5_states'\n",
    "\n",
    "##### Subtype Details\n",
    "* How many unique subtypes are there: 'n_uni_subtypes'\n",
    "* What are those subtypes: 'uni_subtypes'\n"
   ]
  },
  {
   "cell_type": "code",
   "execution_count": 11,
   "metadata": {
    "scrolled": true
   },
   "outputs": [
    {
     "name": "stdout",
     "output_type": "stream",
     "text": [
      "\u001b[1mGeneral Info\u001b[0m\n",
      "Total number of flu A records: 3239\n",
      "Top 5 states reporting Flu A:\n",
      "California    264\n",
      "-N/A-         254\n",
      "Florida       153\n",
      "Texas         129\n",
      "Maryland      111\n",
      "Name: State/Province, dtype: int64\n",
      "\n",
      "Bottom 5 states reporting Flu A:\n",
      "Vermont           24\n",
      "Nevada            24\n",
      "South Carolina    22\n",
      "Rhode Island       9\n",
      "Unknown            1\n",
      "Name: State/Province, dtype: int64\n",
      "\n",
      "\u001b[1mSubtype Details\u001b[0m\n",
      "Number of unique subtypes reported: 4\n",
      "Those subtypes are: ['H1N1' 'H3N2' 'H3' 'H1']\n"
     ]
    }
   ],
   "source": [
    "n_records = len(df_fluA_Human)\n",
    "top5_states = df_fluA_Human['State/Province'].value_counts().head(5)\n",
    "bottom5_states = df_fluA_Human['State/Province'].value_counts().tail(5)\n",
    "n_uni_subtypes = df_fluA_Human['Subtype'].nunique()\n",
    "uni_subtypes = df_fluA_Human['Subtype'].unique()\n",
    "\n",
    "print(\"\\033[1m\" + \"General Info\" + \"\\033[0m\")\n",
    "print(\"Total number of flu A records: {}\".format(n_records))\n",
    "print(\"Top 5 states reporting Flu A:\\n{}\\n\".format(top5_states))\n",
    "print(\"Bottom 5 states reporting Flu A:\\n{}\\n\".format(bottom5_states))\n",
    "print(\"\\033[1m\" + \"Subtype Details\" + \"\\033[0m\")\n",
    "print(\"Number of unique subtypes reported: {}\".format(n_uni_subtypes))\n",
    "print(\"Those subtypes are: {}\".format(uni_subtypes))"
   ]
  },
  {
   "cell_type": "markdown",
   "metadata": {},
   "source": [
    "For Flu A, there are only four reported subtypes, but for simplicity I will count 'H1' with 'H1N1', and 'H3' with 'H3N2'. \n",
    "\n",
    "To see the yearly trend of reporting dates, let's plot out when these entries were submitted ('Collection Date) by month."
   ]
  },
  {
   "cell_type": "code",
   "execution_count": 12,
   "metadata": {},
   "outputs": [],
   "source": [
    "# Replaces \"H1\" and \"H3\" subtypes into full names\n",
    "\n",
    "df_fluA_Human = df_fluA_Human.replace(to_replace=\"H1\", value=\"H1N1\")\n",
    "df_fluA_Human = df_fluA_Human.replace(to_replace=\"H3\", value=\"H3N2\")"
   ]
  },
  {
   "cell_type": "code",
   "execution_count": 13,
   "metadata": {},
   "outputs": [
    {
     "data": {
      "text/plain": [
       "str"
      ]
     },
     "execution_count": 13,
     "metadata": {},
     "output_type": "execute_result"
    }
   ],
   "source": [
    "# Let's check the data type of the 'Collection Date' column\n",
    "\n",
    "type(df_fluA_Human.loc[:,'Collection Date'].iloc[0])"
   ]
  },
  {
   "cell_type": "code",
   "execution_count": 14,
   "metadata": {},
   "outputs": [
    {
     "data": {
      "text/plain": [
       "pandas._libs.tslibs.timestamps.Timestamp"
      ]
     },
     "execution_count": 14,
     "metadata": {},
     "output_type": "execute_result"
    }
   ],
   "source": [
    "# Since the Collection Date is a str, convert the column to datetime objects for ease in plotting \n",
    "\n",
    "df_fluA_Human = df_fluA_Human.copy()  \n",
    "df_fluA_Human['Collection Date'] = pd.to_datetime(df_fluA_Human['Collection Date'])\n",
    "\n",
    "# check the conversion\n",
    "type(df_fluA_Human['Collection Date'].iloc[0])"
   ]
  },
  {
   "cell_type": "code",
   "execution_count": 15,
   "metadata": {},
   "outputs": [
    {
     "data": {
      "text/plain": [
       "Index(['Strain Name', 'Complete Genome', 'Subtype', 'Collection Date', 'Host',\n",
       "       'Country', 'State/Province', 'Geographic Grouping', 'Flu Season',\n",
       "       'Submission Date', 'Passage History', 'Specimen Source Health Status',\n",
       "       '1 PB2', '2 PB1', '3 PA', '4 HA', '5 NP', '6 NA', '7 MP', '8 NS', 'Age',\n",
       "       'Gender', 'M2 31N', 'M2 26F', 'M2 27A', 'M2 30T', 'M2 34E',\n",
       "       'NA 275Y N1', 'NA 292K N2', 'NA 119V N2', 'NA 294S N2', 'PB1-F2 66S',\n",
       "       'PB2 E627K', 'PB2 D701N', 'PB2 A199S', 'PB2 A661T', 'PB2 V667I',\n",
       "       'PB2 K702R', 'PA S409N', 'NP L136M', 'M2 A16G', 'M2 C55F', 'NS1 T92E',\n",
       "       'RERRRKKR', 'Sensitive Drug', 'Resistant Drug', 'Submission Date.1',\n",
       "       'NCBI Taxon ID', 'pH1N1-like', 'US Swine H1 Clade',\n",
       "       'Global Swine H1 Clade test', 'H5 Clade', 'Unnamed: 52', 'Month'],\n",
       "      dtype='object')"
      ]
     },
     "execution_count": 15,
     "metadata": {},
     "output_type": "execute_result"
    }
   ],
   "source": [
    "# Creates a new column for month of each record. This will be the x-axis of my graph\n",
    "\n",
    "df_fluA_Human['Month'] = df_fluA_Human['Collection Date'].apply(lambda time: time.month)\n",
    "df_fluA_Human.columns"
   ]
  },
  {
   "cell_type": "code",
   "execution_count": 16,
   "metadata": {},
   "outputs": [
    {
     "data": {
      "text/plain": [
       "1298     1\n",
       "782      1\n",
       "258      1\n",
       "1964     4\n",
       "150     11\n",
       "Name: Month, dtype: int64"
      ]
     },
     "execution_count": 16,
     "metadata": {},
     "output_type": "execute_result"
    }
   ],
   "source": [
    "# Double check the 'Month' column from a random sample\n",
    "\n",
    "df_fluA_Human['Month'].sample(5)"
   ]
  },
  {
   "cell_type": "code",
   "execution_count": 17,
   "metadata": {},
   "outputs": [
    {
     "data": {
      "text/plain": [
       "468     Nov\n",
       "1621    Jan\n",
       "443     Jan\n",
       "1565    Oct\n",
       "1396    Dec\n",
       "Name: Month, dtype: object"
      ]
     },
     "execution_count": 17,
     "metadata": {},
     "output_type": "execute_result"
    }
   ],
   "source": [
    "# Now that I have the 'Month', I'd like to change the int to month names\n",
    "import calendar\n",
    "\n",
    "df_fluA_Human['Month'] = df_fluA_Human['Month'].apply(lambda x: calendar.month_abbr[x])\n",
    "df_fluA_Human['Month'].sample(5)"
   ]
  },
  {
   "cell_type": "code",
   "execution_count": 18,
   "metadata": {},
   "outputs": [
    {
     "data": {
      "image/png": "[encoded data removed]",
      "text/plain": [
       "<Figure size 432x288 with 1 Axes>"
      ]
     },
     "metadata": {
      "needs_background": "light"
     },
     "output_type": "display_data"
    }
   ],
   "source": [
    "# Plots the records by month, starting with the beginning of the flu season in Oct 2017\n",
    "\n",
    "order = ['Oct', 'Nov', 'Dec','Jan', 'Feb', 'Mar', 'Apr', 'May', 'Jun', 'Jul', 'Aug', 'Sep']\n",
    "\n",
    "sns.countplot(x='Month', data=df_fluA_Human, hue='Subtype', order = order, palette='rainbow').set_title('Reported Flu A Subtypes in US during 2017-18')\n",
    "\n",
    "# relocate the legend\n",
    "plt.legend(bbox_to_anchor = (0.8, 0.98), loc =2, borderaxespad=0.)\n",
    "\n",
    "\n",
    "plt.savefig('FluA.png')"
   ]
  },
  {
   "cell_type": "markdown",
   "metadata": {},
   "source": [
    "### Partial answer to Question 2: For Flu A, the only reported subtypes are H1N1 and H3N2 with H3N2 being reported at higher rates. There is a peak of cases in Dec 2017 for H3N2 and Jan 2018 for H1N1.\n",
    "\n",
    "Unlike the 2 subtypes, there are many more strains reported:\n"
   ]
  },
  {
   "cell_type": "code",
   "execution_count": 19,
   "metadata": {},
   "outputs": [
    {
     "data": {
      "text/plain": [
       "3230"
      ]
     },
     "execution_count": 19,
     "metadata": {},
     "output_type": "execute_result"
    }
   ],
   "source": [
    "df_fluA_Human[\"Strain Name\"].nunique()"
   ]
  },
  {
   "cell_type": "markdown",
   "metadata": {},
   "source": [
    "Because there are so many strains, a figure won't work, but we can list them to get an idea the most common submissions. This may prove useful later when we need to look at exact sequences.\n",
    "\n",
    "A little primer on [how to read strain names](https://www.cdc.gov/flu/about/viruses/types.htm):\n",
    "\n",
    "Antigenic type/host origin/geographical origin/strain #/isolation year (if fluA, hemagglutinin and neuraminidase description, e.g., H1N1)"
   ]
  },
  {
   "cell_type": "code",
   "execution_count": 20,
   "metadata": {},
   "outputs": [
    {
     "name": "stdout",
     "output_type": "stream",
     "text": [
      "\u001b[1mMost Common Strains per Subtype\u001b[0m\n",
      "H1N1 strains:\n",
      "A/North Dakota/10/2018         2\n",
      "A/Arizona/26/2018              1\n",
      "A/Arizona/10/2018              1\n",
      "A/Massachusetts/08/2018        1\n",
      "A/Texas/74/2018                1\n",
      "A/New Hampshire/01/2018        1\n",
      "A/California/BRD80970N/2018    1\n",
      "A/Mississippi/01/2018          1\n",
      "A/Michigan/380/2018            1\n",
      "A/Connecticut/09/2018          1\n",
      "Name: Strain Name, dtype: int64\n",
      "\n",
      "H3N2 strains:\n",
      "A/North Carolina/12/2018          2\n",
      "A/Montana/07/2018                 2\n",
      "A/California/08/2018              2\n",
      "A/New Hampshire/17/2018           2\n",
      "A/Virginia/19/2018                2\n",
      "A/District Of Columbia/04/2017    2\n",
      "A/Alaska/86/2017                  2\n",
      "A/Virginia/38/2017                2\n",
      "A/Texas/61/2018                   1\n",
      "A/California/NHRC_28273/2017      1\n",
      "Name: Strain Name, dtype: int64\n",
      "\n"
     ]
    }
   ],
   "source": [
    "df_H1N1_strains = df_fluA_Human[df_fluA_Human[\"Subtype\"] == \"H1N1\"]\n",
    "H1N1_strains = df_H1N1_strains['Strain Name'].value_counts().head(10)\n",
    "df_H3N2_strains = df_fluA_Human[df_fluA_Human[\"Subtype\"] == \"H3N2\"]\n",
    "H3N2_strains = df_H3N2_strains['Strain Name'].value_counts().head(10)\n",
    "\n",
    "print(\"\\033[1m\" + \"Most Common Strains per Subtype\" + \"\\033[0m\")\n",
    "print(\"H1N1 strains:\\n{}\\n\".format(H1N1_strains))\n",
    "print(\"H3N2 strains:\\n{}\\n\".format(H3N2_strains))\n"
   ]
  },
  {
   "cell_type": "markdown",
   "metadata": {},
   "source": [
    "So it looks like strains are being deposited as they are newly sequenced, with no repeating strains. \n",
    "\n",
    "Now lets perform the same analysis for Influenza Type B."
   ]
  },
  {
   "cell_type": "code",
   "execution_count": 21,
   "metadata": {},
   "outputs": [
    {
     "name": "stdout",
     "output_type": "stream",
     "text": [
      "<class 'pandas.core.frame.DataFrame'>\n",
      "Int64Index: 1893 entries, 0 to 1892\n",
      "Data columns (total 53 columns):\n",
      "Strain Name                      1893 non-null object\n",
      "Complete Genome                  1893 non-null object\n",
      "Subtype                          1893 non-null object\n",
      "Collection Date                  1893 non-null object\n",
      "Host                             1893 non-null object\n",
      "Country                          1893 non-null object\n",
      "State/Province                   1893 non-null object\n",
      "Geographic Grouping              1893 non-null object\n",
      "Flu Season                       1893 non-null object\n",
      "Submission Date                  1893 non-null object\n",
      "Passage History                  1893 non-null object\n",
      "Specimen Source Health Status    1893 non-null object\n",
      "1 PB1                            1893 non-null object\n",
      "2 PB2                            1893 non-null object\n",
      "3 PA                             1893 non-null object\n",
      "4 HA                             1893 non-null object\n",
      "5 NP                             1893 non-null object\n",
      "6 NA                             1893 non-null object\n",
      "7 MP                             1893 non-null object\n",
      "8 NS                             1893 non-null object\n",
      "Age                              1893 non-null object\n",
      "Gender                           1893 non-null object\n",
      "M2 31N                           1893 non-null object\n",
      "M2 26F                           1893 non-null object\n",
      "M2 27A                           1893 non-null object\n",
      "M2 30T                           1893 non-null object\n",
      "M2 34E                           1893 non-null object\n",
      "NA 275Y N1                       1893 non-null object\n",
      "NA 292K N2                       1893 non-null object\n",
      "NA 119V N2                       1893 non-null object\n",
      "NA 294S N2                       1893 non-null object\n",
      "PB1-F2 66S                       1893 non-null object\n",
      "PB2 E627K                        1893 non-null object\n",
      "PB2 D701N                        1893 non-null object\n",
      "PB2 A199S                        1893 non-null object\n",
      "PB2 A661T                        1893 non-null object\n",
      "PB2 V667I                        1893 non-null object\n",
      "PB2 K702R                        1893 non-null object\n",
      "PA S409N                         1893 non-null object\n",
      "NP L136M                         1893 non-null object\n",
      "M2 A16G                          1893 non-null object\n",
      "M2 C55F                          1893 non-null object\n",
      "NS1 T92E                         1893 non-null object\n",
      "RERRRKKR                         1893 non-null object\n",
      "Sensitive Drug                   1893 non-null object\n",
      "Resistant Drug                   1893 non-null object\n",
      "Submission Date.1                1893 non-null object\n",
      "NCBI Taxon ID                    1893 non-null int64\n",
      "pH1N1-like                       1893 non-null object\n",
      "US Swine H1 Clade                1893 non-null object\n",
      "Global Swine H1 Clade test       1893 non-null object\n",
      "H5 Clade                         1893 non-null object\n",
      "Unnamed: 52                      0 non-null float64\n",
      "dtypes: float64(1), int64(1), object(51)\n",
      "memory usage: 798.6+ KB\n"
     ]
    }
   ],
   "source": [
    "df_fluB_Human.info()"
   ]
  },
  {
   "cell_type": "code",
   "execution_count": 22,
   "metadata": {},
   "outputs": [
    {
     "name": "stdout",
     "output_type": "stream",
     "text": [
      "\u001b[1mGeneral Info\u001b[0m\n",
      "Total number of flu B records: 1893\n",
      "Top 5 states reporting Flu B:\n",
      "-N/A-         375\n",
      "California    209\n",
      "Florida        57\n",
      "Arizona        45\n",
      "Texas          44\n",
      "Name: State/Province, dtype: int64\n",
      "\n",
      "Bottom 5 states reporting Flu B:\n",
      "Arkansas        10\n",
      "Tennessee       10\n",
      "Rhode Island     6\n",
      "Nevada           4\n",
      "Unknown          1\n",
      "Name: State/Province, dtype: int64\n",
      "\n",
      "\u001b[1mSubtype Details\u001b[0m\n",
      "Number of unique subtypes reported: 1\n",
      "Those subtypes are: ['-N/A-']\n"
     ]
    }
   ],
   "source": [
    "n_records = len(df_fluB_Human)\n",
    "top5_states = df_fluB_Human['State/Province'].value_counts().head(5)\n",
    "bottom5_states = df_fluB_Human['State/Province'].value_counts().tail(5)\n",
    "n_uni_subtypes = df_fluB_Human['Subtype'].nunique()\n",
    "uni_subtypes = df_fluB_Human['Subtype'].unique()\n",
    "\n",
    "print(\"\\033[1m\" + \"General Info\" + \"\\033[0m\")\n",
    "print(\"Total number of flu B records: {}\".format(n_records))\n",
    "print(\"Top 5 states reporting Flu B:\\n{}\\n\".format(top5_states))\n",
    "print(\"Bottom 5 states reporting Flu B:\\n{}\\n\".format(bottom5_states))\n",
    "print(\"\\033[1m\" + \"Subtype Details\" + \"\\033[0m\")\n",
    "print(\"Number of unique subtypes reported: {}\".format(n_uni_subtypes))\n",
    "print(\"Those subtypes are: {}\".format(uni_subtypes))"
   ]
  },
  {
   "cell_type": "markdown",
   "metadata": {},
   "source": [
    "Interesting that the highest record type did not fill in the state field. Also there is only one subtype reported, which is unnamed. We can still take a look at the montly reporting dates and most common strains.\n",
    "\n",
    "To simplify the graphs later on, will relabel these as just \"FluB_Sub_ukwn\""
   ]
  },
  {
   "cell_type": "code",
   "execution_count": 23,
   "metadata": {},
   "outputs": [],
   "source": [
    "df_fluB_Human = df_fluB_Human.replace(to_replace=\"-N/A-\", value=\"FluB_Sub_unkwn\")"
   ]
  },
  {
   "cell_type": "markdown",
   "metadata": {},
   "source": [
    "Also want to take a look at the strains for fluB."
   ]
  },
  {
   "cell_type": "code",
   "execution_count": 24,
   "metadata": {},
   "outputs": [
    {
     "name": "stdout",
     "output_type": "stream",
     "text": [
      "\u001b[1mMost Common Strains for Flu B\u001b[0m\n",
      "FluB_Sub_unkwn:\n",
      "B/California/32/2018                1\n",
      "B/Ontario/074/2018                  1\n",
      "B/North Carolina/6726/2018          1\n",
      "B/Missouri/11/2017                  1\n",
      "B/Michigan/93/2017                  1\n",
      "B/California/NHRC_BRD12595N/2018    1\n",
      "B/Alberta/318/2017                  1\n",
      "B/Maryland/14/2018                  1\n",
      "B/Massachusetts/19/2017             1\n",
      "B/Oklahoma/6729/2018                1\n",
      "Name: Strain Name, dtype: int64\n",
      "\n"
     ]
    }
   ],
   "source": [
    "fluB_strains = df_fluB_Human[\"Strain Name\"].value_counts().head(10)\n",
    "\n",
    "print(\"\\033[1m\" + \"Most Common Strains for Flu B\" + \"\\033[0m\")\n",
    "print(\"FluB_Sub_unkwn:\\n{}\\n\".format(fluB_strains))"
   ]
  },
  {
   "cell_type": "markdown",
   "metadata": {},
   "source": [
    "Also no repeat strains for fluB. Will continue to convert the DataFrame of fluB so it includes the month collection date."
   ]
  },
  {
   "cell_type": "code",
   "execution_count": 25,
   "metadata": {},
   "outputs": [],
   "source": [
    "df_fluB_Human = df_fluB_Human.copy()  \n",
    "df_fluB_Human['Collection Date'] = pd.to_datetime(df_fluB_Human['Collection Date'])"
   ]
  },
  {
   "cell_type": "code",
   "execution_count": 26,
   "metadata": {
    "code_folding": []
   },
   "outputs": [
    {
     "data": {
      "text/plain": [
       "pandas._libs.tslibs.timestamps.Timestamp"
      ]
     },
     "execution_count": 26,
     "metadata": {},
     "output_type": "execute_result"
    }
   ],
   "source": [
    "# check the conversion\n",
    "type(df_fluB_Human['Collection Date'].iloc[0])"
   ]
  },
  {
   "cell_type": "code",
   "execution_count": 27,
   "metadata": {
    "code_folding": []
   },
   "outputs": [],
   "source": [
    "# Create a new column for just the month of each record. This will be the x-axis of my graph\n",
    "\n",
    "df_fluB_Human['Month'] = df_fluB_Human['Collection Date'].apply(lambda time: time.month)"
   ]
  },
  {
   "cell_type": "code",
   "execution_count": 28,
   "metadata": {
    "code_folding": []
   },
   "outputs": [],
   "source": [
    "# The month is an int conver to --> month as str\n",
    "import calendar\n",
    "\n",
    "df_fluB_Human['Month'] = df_fluB_Human['Month'].apply(lambda x: calendar.month_abbr[x])"
   ]
  },
  {
   "cell_type": "code",
   "execution_count": 29,
   "metadata": {
    "code_folding": []
   },
   "outputs": [
    {
     "data": {
      "image/png": "[encoded data removed]",
      "text/plain": [
       "<Figure size 432x288 with 1 Axes>"
      ]
     },
     "metadata": {
      "needs_background": "light"
     },
     "output_type": "display_data"
    }
   ],
   "source": [
    "#Plots the records by month, starting with the beginning of the flu season in Oct 2017\n",
    "\n",
    "order = ['Oct', 'Nov', 'Dec','Jan', 'Feb', 'Mar', 'Apr', 'May', 'Jun', 'Jul', 'Aug', 'Sep']\n",
    "\n",
    "sns.countplot(x='Month', data=df_fluB_Human, hue='Subtype', order = order, palette='rainbow').set_title('Reported Flu B Subtypes in US during 2017-18')\n",
    "\n",
    "# relocate the legend\n",
    "plt.legend(bbox_to_anchor = (0.68, 0.98), loc =2, borderaxespad=0.)\n",
    "\n",
    "plt.savefig('FluB.png')"
   ]
  },
  {
   "cell_type": "markdown",
   "metadata": {},
   "source": [
    "Here's a look at just Flu B for the season, with a peak around January with about 500 submissions. \n",
    "\n",
    "Let's see how it compares to Flu A, by combining this all into one figure."
   ]
  },
  {
   "cell_type": "code",
   "execution_count": 30,
   "metadata": {},
   "outputs": [],
   "source": [
    "df_AllFlu = pd.merge(df_fluA_Human, df_fluB_Human, how='outer')"
   ]
  },
  {
   "cell_type": "code",
   "execution_count": 31,
   "metadata": {
    "code_folding": []
   },
   "outputs": [
    {
     "data": {
      "image/png": "[encoded data removed]",
      "text/plain": [
       "<Figure size 432x288 with 1 Axes>"
      ]
     },
     "metadata": {
      "needs_background": "light"
     },
     "output_type": "display_data"
    }
   ],
   "source": [
    "#Plotting out all three subtypes\n",
    "order = ['Oct', 'Nov', 'Dec','Jan', 'Feb', 'Mar', 'Apr', 'May', 'Jun', 'Jul', 'Aug', 'Sep']\n",
    "\n",
    "sns.countplot(x='Month', data=df_AllFlu, hue='Subtype', order = order, palette='rainbow').set_title('Reported Flu Subtypes in US during 2017-18')\n",
    "\n",
    "# relocate the legend\n",
    "plt.legend(bbox_to_anchor = (0.68, 0.98), loc =2, borderaxespad=0.)\n",
    "\n",
    "plt.savefig('Flu_allsubtypes.png')"
   ]
  },
  {
   "cell_type": "markdown",
   "metadata": {},
   "source": [
    "### Here is a cumulative look at all three subtypes: Flu A H1N1, Flu A H3N2, and Flu B 'N/A'. What's interesting is how Flu B persists during the end while Flu A is slowly waning out for the season.\n"
   ]
  },
  {
   "cell_type": "code",
   "execution_count": 50,
   "metadata": {},
   "outputs": [
    {
     "data": {
      "text/plain": [
       "Index(['Strain Name', 'Complete Genome', 'Subtype', 'Collection Date', 'Host',\n",
       "       'Country', 'State/Province', 'Geographic Grouping', 'Flu Season',\n",
       "       'Submission Date', 'Passage History', 'Specimen Source Health Status',\n",
       "       '1 PB2', '2 PB1', '3 PA', '4 HA', '5 NP', '6 NA', '7 MP', '8 NS', 'Age',\n",
       "       'Gender', 'M2 31N', 'M2 26F', 'M2 27A', 'M2 30T', 'M2 34E',\n",
       "       'NA 275Y N1', 'NA 292K N2', 'NA 119V N2', 'NA 294S N2', 'PB1-F2 66S',\n",
       "       'PB2 E627K', 'PB2 D701N', 'PB2 A199S', 'PB2 A661T', 'PB2 V667I',\n",
       "       'PB2 K702R', 'PA S409N', 'NP L136M', 'M2 A16G', 'M2 C55F', 'NS1 T92E',\n",
       "       'RERRRKKR', 'Sensitive Drug', 'Resistant Drug', 'Submission Date.1',\n",
       "       'NCBI Taxon ID', 'pH1N1-like', 'US Swine H1 Clade',\n",
       "       'Global Swine H1 Clade test', 'H5 Clade', 'Unnamed: 52', 'Month'],\n",
       "      dtype='object')"
      ]
     },
     "execution_count": 50,
     "metadata": {},
     "output_type": "execute_result"
    }
   ],
   "source": [
    "# Let's take a look if we can do a plot by age or gender\n",
    "\n",
    "df_fluA_Human.columns"
   ]
  },
  {
   "cell_type": "code",
   "execution_count": 79,
   "metadata": {},
   "outputs": [
    {
     "name": "stdout",
     "output_type": "stream",
     "text": [
      "-N/A-    2381\n",
      "1          23\n",
      "20         19\n",
      "2          18\n",
      "7          18\n",
      "4          18\n",
      "5          18\n",
      "33         17\n",
      "13         17\n",
      "6          16\n",
      "Name: Age, dtype: int64\n",
      "\n",
      "\n",
      "FluB_Sub_unkwn    1562\n",
      "9                   12\n",
      "6                   12\n",
      "11                  10\n",
      "53                   9\n",
      "5                    9\n",
      "19                   9\n",
      "4                    9\n",
      "55                   9\n",
      "20                   8\n",
      "Name: Age, dtype: int64\n"
     ]
    }
   ],
   "source": [
    "fluA_age = df_fluA_Human['Age'].value_counts().head(10)\n",
    "fluB_age = df_fluB_Human['Age'].value_counts().head(10)\n",
    "\n",
    "print(fluA_age)\n",
    "print('\\n')\n",
    "print(fluB_age)"
   ]
  },
  {
   "cell_type": "markdown",
   "metadata": {},
   "source": [
    "Looks like the majority of the data has unreported fields for age, so let's check on gender."
   ]
  },
  {
   "cell_type": "code",
   "execution_count": 78,
   "metadata": {},
   "outputs": [
    {
     "name": "stdout",
     "output_type": "stream",
     "text": [
      "-N/A-    2380\n",
      "F         439\n",
      "M         420\n",
      "Name: Gender, dtype: int64\n",
      "\n",
      "\n",
      "FluB_Sub_unkwn    1562\n",
      "M                  177\n",
      "F                  154\n",
      "Name: Gender, dtype: int64\n"
     ]
    }
   ],
   "source": [
    "fluA_gender = df_fluA_Human['Gender'].value_counts().head(5)\n",
    "fluB_gender = df_fluB_Human['Gender'].value_counts().head(5)\n",
    "\n",
    "print(fluA_gender)\n",
    "print('\\n')\n",
    "print(fluB_gender)\n"
   ]
  },
  {
   "cell_type": "markdown",
   "metadata": {},
   "source": [
    "Likewise for gender. So although there was insufficient data from this database for those columns, we can still explore the distribution of cases by state, which we will demonstrate in the next notebook."
   ]
  },
  {
   "cell_type": "markdown",
   "metadata": {},
   "source": [
    "  \n",
    "  "
   ]
  }
 ],
 "metadata": {
  "kernelspec": {
   "display_name": "Python 3",
   "language": "python",
   "name": "python3"
  },
  "language_info": {
   "codemirror_mode": {
    "name": "ipython",
    "version": 3
   },
   "file_extension": ".py",
   "mimetype": "text/x-python",
   "name": "python",
   "nbconvert_exporter": "python",
   "pygments_lexer": "ipython3",
   "version": "3.7.0"
  }
 },
 "nbformat": 4,
 "nbformat_minor": 2
}
