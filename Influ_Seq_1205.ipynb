{
 "cells": [
  {
   "cell_type": "markdown",
   "metadata": {},
   "source": [
    "Now that I've downloaded all the records that I need and gotten an idea of what they hold, it's time to look at sequences in an attempt to answer question 3: which is how similiar were the recommended vaccine strains to the reported sequences during the 17-18 season. \n",
    "\n",
    "How do I compare the differences between the sequences? Will have to look into BioPython to see what in available in that library to compare genetics. "
   ]
  }
 ],
 "metadata": {
  "kernelspec": {
   "display_name": "Python 3",
   "language": "python",
   "name": "python3"
  },
  "language_info": {
   "codemirror_mode": {
    "name": "ipython",
    "version": 3
   },
   "file_extension": ".py",
   "mimetype": "text/x-python",
   "name": "python",
   "nbconvert_exporter": "python",
   "pygments_lexer": "ipython3",
   "version": "3.7.0"
  }
 },
 "nbformat": 4,
 "nbformat_minor": 2
}
