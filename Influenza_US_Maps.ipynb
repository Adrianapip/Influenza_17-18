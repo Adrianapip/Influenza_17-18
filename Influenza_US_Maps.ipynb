{
 "cells": [
  {
   "cell_type": "markdown",
   "metadata": {},
   "source": [
    "# How to make a choropleth map using flu data\n",
    "\n",
    "I thought it'd be interesting to look at the reported flu cases using a map view. We're going to look at total numbers, so I'm going to merge both the fluA and fluB dataframes. \n"
   ]
  },
  {
   "cell_type": "markdown",
   "metadata": {},
   "source": [
    "---\n",
    "# Viewing data on a US Map"
   ]
  },
  {
   "cell_type": "code",
   "execution_count": 2,
   "metadata": {},
   "outputs": [
    {
     "data": {
      "text/html": [
       "<script>requirejs.config({paths: { 'plotly': ['https://cdn.plot.ly/plotly-latest.min']},});if(!window.Plotly) {{require(['plotly'],function(plotly) {window.Plotly=plotly;});}}</script>"
      ],
      "text/vnd.plotly.v1+html": [
       "<script>requirejs.config({paths: { 'plotly': ['https://cdn.plot.ly/plotly-latest.min']},});if(!window.Plotly) {{require(['plotly'],function(plotly) {window.Plotly=plotly;});}}</script>"
      ]
     },
     "metadata": {},
     "output_type": "display_data"
    }
   ],
   "source": [
    "# imports libraries for a choropleth map\n",
    "\n",
    "import pandas as pd\n",
    "import plotly.graph_objs as go\n",
    "from plotly.offline import download_plotlyjs, init_notebook_mode, plot, iplot\n",
    "init_notebook_mode(connected=True)"
   ]
  },
  {
   "cell_type": "code",
   "execution_count": 3,
   "metadata": {},
   "outputs": [
    {
     "name": "stdout",
     "output_type": "stream",
     "text": [
      "1.FASTA                                 aligned2.FASTA\r\n",
      "1.fa                                    aligned2.fa\r\n",
      "Influ_Seq_1205.ipynb                    fluAB\r\n",
      "Influenza_US_Maps.ipynb                 fluAB.csv\r\n",
      "Influenza_inital_data_assessment.ipynb  \u001b[1m\u001b[32mfluA_strains.tsv\u001b[m\u001b[m*\r\n",
      "README.md                               \u001b[1m\u001b[32mfluB_strains.tsv\u001b[m\u001b[m*\r\n",
      "aligned.FASTA                           inflA.fasta\r\n",
      "aligned.aln                             new_file.fa\r\n"
     ]
    }
   ],
   "source": [
    "ls"
   ]
  },
  {
   "cell_type": "code",
   "execution_count": 1,
   "metadata": {},
   "outputs": [
    {
     "ename": "NameError",
     "evalue": "name 'pd' is not defined",
     "output_type": "error",
     "traceback": [
      "\u001b[0;31m---------------------------------------------------------------------------\u001b[0m",
      "\u001b[0;31mNameError\u001b[0m                                 Traceback (most recent call last)",
      "\u001b[0;32m<ipython-input-1-f6d11fb596ee>\u001b[0m in \u001b[0;36m<module>\u001b[0;34m()\u001b[0m\n\u001b[0;32m----> 1\u001b[0;31m \u001b[0mdf_fluA\u001b[0m \u001b[0;34m=\u001b[0m \u001b[0mpd\u001b[0m\u001b[0;34m.\u001b[0m\u001b[0mread_csv\u001b[0m\u001b[0;34m(\u001b[0m\u001b[0;34m'fluA_strains.tsv'\u001b[0m\u001b[0;34m,\u001b[0m \u001b[0msep\u001b[0m\u001b[0;34m=\u001b[0m\u001b[0;34m'\\t'\u001b[0m\u001b[0;34m)\u001b[0m\u001b[0;34m\u001b[0m\u001b[0m\n\u001b[0m\u001b[1;32m      2\u001b[0m \u001b[0mdf_fluB\u001b[0m \u001b[0;34m=\u001b[0m \u001b[0mpd\u001b[0m\u001b[0;34m.\u001b[0m\u001b[0mread_csv\u001b[0m\u001b[0;34m(\u001b[0m\u001b[0;34m'fluB_strains.tsv'\u001b[0m\u001b[0;34m,\u001b[0m \u001b[0msep\u001b[0m\u001b[0;34m=\u001b[0m\u001b[0;34m'\\t'\u001b[0m\u001b[0;34m)\u001b[0m\u001b[0;34m\u001b[0m\u001b[0m\n",
      "\u001b[0;31mNameError\u001b[0m: name 'pd' is not defined"
     ]
    }
   ],
   "source": [
    "df_fluA = pd.read_csv('fluA_strains.tsv', sep='\\t')\n",
    "df_fluB = pd.read_csv('fluB_strains.tsv', sep='\\t')"
   ]
  },
  {
   "cell_type": "code",
   "execution_count": 5,
   "metadata": {},
   "outputs": [
    {
     "data": {
      "text/html": [
       "<div>\n",
       "<style scoped>\n",
       "    .dataframe tbody tr th:only-of-type {\n",
       "        vertical-align: middle;\n",
       "    }\n",
       "\n",
       "    .dataframe tbody tr th {\n",
       "        vertical-align: top;\n",
       "    }\n",
       "\n",
       "    .dataframe thead th {\n",
       "        text-align: right;\n",
       "    }\n",
       "</style>\n",
       "<table border=\"1\" class=\"dataframe\">\n",
       "  <thead>\n",
       "    <tr style=\"text-align: right;\">\n",
       "      <th></th>\n",
       "      <th>Strain Name</th>\n",
       "      <th>Complete Genome</th>\n",
       "      <th>Subtype</th>\n",
       "      <th>Collection Date</th>\n",
       "      <th>Host</th>\n",
       "      <th>Country</th>\n",
       "      <th>State/Province</th>\n",
       "      <th>Geographic Grouping</th>\n",
       "      <th>Flu Season</th>\n",
       "      <th>Submission Date</th>\n",
       "      <th>...</th>\n",
       "      <th>RERRRKKR</th>\n",
       "      <th>Sensitive Drug</th>\n",
       "      <th>Resistant Drug</th>\n",
       "      <th>Submission Date.1</th>\n",
       "      <th>NCBI Taxon ID</th>\n",
       "      <th>pH1N1-like</th>\n",
       "      <th>US Swine H1 Clade</th>\n",
       "      <th>Global Swine H1 Clade test</th>\n",
       "      <th>H5 Clade</th>\n",
       "      <th>Unnamed: 52</th>\n",
       "    </tr>\n",
       "  </thead>\n",
       "  <tbody>\n",
       "    <tr>\n",
       "      <th>0</th>\n",
       "      <td>A/Alabama/01/2018</td>\n",
       "      <td>Yes</td>\n",
       "      <td>H1N1</td>\n",
       "      <td>01/02/2018</td>\n",
       "      <td>Human</td>\n",
       "      <td>USA</td>\n",
       "      <td>Alabama</td>\n",
       "      <td>North America</td>\n",
       "      <td>17-18</td>\n",
       "      <td>2018-03-24</td>\n",
       "      <td>...</td>\n",
       "      <td>No</td>\n",
       "      <td>-N/A-</td>\n",
       "      <td>-N/A-</td>\n",
       "      <td>03/24/2018</td>\n",
       "      <td>11320</td>\n",
       "      <td>Mixed Positive and Negative Segments</td>\n",
       "      <td>npdm</td>\n",
       "      <td>1A.3.3.2</td>\n",
       "      <td>-N/A-</td>\n",
       "      <td>NaN</td>\n",
       "    </tr>\n",
       "    <tr>\n",
       "      <th>1</th>\n",
       "      <td>A/Alabama/02/2018</td>\n",
       "      <td>Yes</td>\n",
       "      <td>H1N1</td>\n",
       "      <td>01/03/2018</td>\n",
       "      <td>Human</td>\n",
       "      <td>USA</td>\n",
       "      <td>Alabama</td>\n",
       "      <td>North America</td>\n",
       "      <td>17-18</td>\n",
       "      <td>2018-03-24</td>\n",
       "      <td>...</td>\n",
       "      <td>No</td>\n",
       "      <td>Oseltamivir,Zanamivir</td>\n",
       "      <td>-N/A-</td>\n",
       "      <td>03/24/2018</td>\n",
       "      <td>11320</td>\n",
       "      <td>Mixed Positive and Negative Segments</td>\n",
       "      <td>npdm</td>\n",
       "      <td>1A.3.3.2</td>\n",
       "      <td>-N/A-</td>\n",
       "      <td>NaN</td>\n",
       "    </tr>\n",
       "    <tr>\n",
       "      <th>2</th>\n",
       "      <td>A/Alabama/03/2018</td>\n",
       "      <td>Yes</td>\n",
       "      <td>H3N2</td>\n",
       "      <td>01/03/2018</td>\n",
       "      <td>Human</td>\n",
       "      <td>USA</td>\n",
       "      <td>Alabama</td>\n",
       "      <td>North America</td>\n",
       "      <td>17-18</td>\n",
       "      <td>2018-03-24</td>\n",
       "      <td>...</td>\n",
       "      <td>No</td>\n",
       "      <td>-N/A-</td>\n",
       "      <td>-N/A-</td>\n",
       "      <td>03/24/2018</td>\n",
       "      <td>11320</td>\n",
       "      <td>Negative</td>\n",
       "      <td>-N/A-</td>\n",
       "      <td>-N/A-</td>\n",
       "      <td>-N/A-</td>\n",
       "      <td>NaN</td>\n",
       "    </tr>\n",
       "  </tbody>\n",
       "</table>\n",
       "<p>3 rows × 53 columns</p>\n",
       "</div>"
      ],
      "text/plain": [
       "         Strain Name Complete Genome Subtype Collection Date   Host Country  \\\n",
       "0  A/Alabama/01/2018             Yes    H1N1      01/02/2018  Human     USA   \n",
       "1  A/Alabama/02/2018             Yes    H1N1      01/03/2018  Human     USA   \n",
       "2  A/Alabama/03/2018             Yes    H3N2      01/03/2018  Human     USA   \n",
       "\n",
       "  State/Province Geographic Grouping Flu Season Submission Date     ...      \\\n",
       "0        Alabama       North America      17-18      2018-03-24     ...       \n",
       "1        Alabama       North America      17-18      2018-03-24     ...       \n",
       "2        Alabama       North America      17-18      2018-03-24     ...       \n",
       "\n",
       "  RERRRKKR         Sensitive Drug Resistant Drug Submission Date.1  \\\n",
       "0       No                  -N/A-          -N/A-        03/24/2018   \n",
       "1       No  Oseltamivir,Zanamivir          -N/A-        03/24/2018   \n",
       "2       No                  -N/A-          -N/A-        03/24/2018   \n",
       "\n",
       "  NCBI Taxon ID                            pH1N1-like US Swine H1 Clade  \\\n",
       "0         11320  Mixed Positive and Negative Segments              npdm   \n",
       "1         11320  Mixed Positive and Negative Segments              npdm   \n",
       "2         11320                              Negative             -N/A-   \n",
       "\n",
       "  Global Swine H1 Clade test H5 Clade Unnamed: 52  \n",
       "0                   1A.3.3.2    -N/A-         NaN  \n",
       "1                   1A.3.3.2    -N/A-         NaN  \n",
       "2                      -N/A-    -N/A-         NaN  \n",
       "\n",
       "[3 rows x 53 columns]"
      ]
     },
     "execution_count": 5,
     "metadata": {},
     "output_type": "execute_result"
    }
   ],
   "source": [
    "# check the dataframe \n",
    "\n",
    "df_fluA.head(3)"
   ]
  },
  {
   "cell_type": "markdown",
   "metadata": {},
   "source": [
    "First thing we have to do is convert the state names to abbreviations so they read into the map correctly.\n",
    "\n",
    "Here's a dictionary of state names to abbreviations thanks to [rogerallen](https://gist.github.com/rogerallen/1583593)\n"
   ]
  },
  {
   "cell_type": "code",
   "execution_count": 6,
   "metadata": {
    "code_folding": [
     0
    ]
   },
   "outputs": [],
   "source": [
    "us_state_abbrev = {\n",
    "    'Alabama': 'AL',\n",
    "    'Alaska': 'AK',\n",
    "    'Arizona': 'AZ',\n",
    "    'Arkansas': 'AR',\n",
    "    'California': 'CA',\n",
    "    'Colorado': 'CO',\n",
    "    'Connecticut': 'CT',\n",
    "    'Delaware': 'DE',\n",
    "    'Florida': 'FL',\n",
    "    'Georgia': 'GA',\n",
    "    'Hawaii': 'HI',\n",
    "    'Idaho': 'ID',\n",
    "    'Illinois': 'IL',\n",
    "    'Indiana': 'IN',\n",
    "    'Iowa': 'IA',\n",
    "    'Kansas': 'KS',\n",
    "    'Kentucky': 'KY',\n",
    "    'Louisiana': 'LA',\n",
    "    'Maine': 'ME',\n",
    "    'Maryland': 'MD',\n",
    "    'Massachusetts': 'MA',\n",
    "    'Michigan': 'MI',\n",
    "    'Minnesota': 'MN',\n",
    "    'Mississippi': 'MS',\n",
    "    'Missouri': 'MO',\n",
    "    'Montana': 'MT',\n",
    "    'Nebraska': 'NE',\n",
    "    'Nevada': 'NV',\n",
    "    'New Hampshire': 'NH',\n",
    "    'New Jersey': 'NJ',\n",
    "    'New Mexico': 'NM',\n",
    "    'New York': 'NY',\n",
    "    'North Carolina': 'NC',\n",
    "    'North Dakota': 'ND',\n",
    "    'Ohio': 'OH',\n",
    "    'Oklahoma': 'OK',\n",
    "    'Oregon': 'OR',\n",
    "    'Pennsylvania': 'PA',\n",
    "    'Rhode Island': 'RI',\n",
    "    'South Carolina': 'SC',\n",
    "    'South Dakota': 'SD',\n",
    "    'Tennessee': 'TN',\n",
    "    'Texas': 'TX',\n",
    "    'Utah': 'UT',\n",
    "    'Vermont': 'VT',\n",
    "    'Virginia': 'VA',\n",
    "    'Washington': 'WA',\n",
    "    'West Virginia': 'WV',\n",
    "    'Wisconsin': 'WI',\n",
    "    'Wyoming': 'WY',\n",
    "}"
   ]
  },
  {
   "cell_type": "code",
   "execution_count": 7,
   "metadata": {},
   "outputs": [
    {
     "data": {
      "text/html": [
       "<div>\n",
       "<style scoped>\n",
       "    .dataframe tbody tr th:only-of-type {\n",
       "        vertical-align: middle;\n",
       "    }\n",
       "\n",
       "    .dataframe tbody tr th {\n",
       "        vertical-align: top;\n",
       "    }\n",
       "\n",
       "    .dataframe thead th {\n",
       "        text-align: right;\n",
       "    }\n",
       "</style>\n",
       "<table border=\"1\" class=\"dataframe\">\n",
       "  <thead>\n",
       "    <tr style=\"text-align: right;\">\n",
       "      <th></th>\n",
       "      <th>Strain Name</th>\n",
       "      <th>Complete Genome</th>\n",
       "      <th>Subtype</th>\n",
       "      <th>Collection Date</th>\n",
       "      <th>Host</th>\n",
       "      <th>Country</th>\n",
       "      <th>State/Province</th>\n",
       "      <th>Geographic Grouping</th>\n",
       "      <th>Flu Season</th>\n",
       "      <th>Submission Date</th>\n",
       "      <th>...</th>\n",
       "      <th>Sensitive Drug</th>\n",
       "      <th>Resistant Drug</th>\n",
       "      <th>Submission Date.1</th>\n",
       "      <th>NCBI Taxon ID</th>\n",
       "      <th>pH1N1-like</th>\n",
       "      <th>US Swine H1 Clade</th>\n",
       "      <th>Global Swine H1 Clade test</th>\n",
       "      <th>H5 Clade</th>\n",
       "      <th>Unnamed: 52</th>\n",
       "      <th>abbrev</th>\n",
       "    </tr>\n",
       "  </thead>\n",
       "  <tbody>\n",
       "    <tr>\n",
       "      <th>0</th>\n",
       "      <td>A/Alabama/01/2018</td>\n",
       "      <td>Yes</td>\n",
       "      <td>H1N1</td>\n",
       "      <td>01/02/2018</td>\n",
       "      <td>Human</td>\n",
       "      <td>USA</td>\n",
       "      <td>Alabama</td>\n",
       "      <td>North America</td>\n",
       "      <td>17-18</td>\n",
       "      <td>2018-03-24</td>\n",
       "      <td>...</td>\n",
       "      <td>-N/A-</td>\n",
       "      <td>-N/A-</td>\n",
       "      <td>03/24/2018</td>\n",
       "      <td>11320</td>\n",
       "      <td>Mixed Positive and Negative Segments</td>\n",
       "      <td>npdm</td>\n",
       "      <td>1A.3.3.2</td>\n",
       "      <td>-N/A-</td>\n",
       "      <td>NaN</td>\n",
       "      <td>AL</td>\n",
       "    </tr>\n",
       "    <tr>\n",
       "      <th>1</th>\n",
       "      <td>A/Alabama/02/2018</td>\n",
       "      <td>Yes</td>\n",
       "      <td>H1N1</td>\n",
       "      <td>01/03/2018</td>\n",
       "      <td>Human</td>\n",
       "      <td>USA</td>\n",
       "      <td>Alabama</td>\n",
       "      <td>North America</td>\n",
       "      <td>17-18</td>\n",
       "      <td>2018-03-24</td>\n",
       "      <td>...</td>\n",
       "      <td>Oseltamivir,Zanamivir</td>\n",
       "      <td>-N/A-</td>\n",
       "      <td>03/24/2018</td>\n",
       "      <td>11320</td>\n",
       "      <td>Mixed Positive and Negative Segments</td>\n",
       "      <td>npdm</td>\n",
       "      <td>1A.3.3.2</td>\n",
       "      <td>-N/A-</td>\n",
       "      <td>NaN</td>\n",
       "      <td>AL</td>\n",
       "    </tr>\n",
       "    <tr>\n",
       "      <th>2</th>\n",
       "      <td>A/Alabama/03/2018</td>\n",
       "      <td>Yes</td>\n",
       "      <td>H3N2</td>\n",
       "      <td>01/03/2018</td>\n",
       "      <td>Human</td>\n",
       "      <td>USA</td>\n",
       "      <td>Alabama</td>\n",
       "      <td>North America</td>\n",
       "      <td>17-18</td>\n",
       "      <td>2018-03-24</td>\n",
       "      <td>...</td>\n",
       "      <td>-N/A-</td>\n",
       "      <td>-N/A-</td>\n",
       "      <td>03/24/2018</td>\n",
       "      <td>11320</td>\n",
       "      <td>Negative</td>\n",
       "      <td>-N/A-</td>\n",
       "      <td>-N/A-</td>\n",
       "      <td>-N/A-</td>\n",
       "      <td>NaN</td>\n",
       "      <td>AL</td>\n",
       "    </tr>\n",
       "  </tbody>\n",
       "</table>\n",
       "<p>3 rows × 54 columns</p>\n",
       "</div>"
      ],
      "text/plain": [
       "         Strain Name Complete Genome Subtype Collection Date   Host Country  \\\n",
       "0  A/Alabama/01/2018             Yes    H1N1      01/02/2018  Human     USA   \n",
       "1  A/Alabama/02/2018             Yes    H1N1      01/03/2018  Human     USA   \n",
       "2  A/Alabama/03/2018             Yes    H3N2      01/03/2018  Human     USA   \n",
       "\n",
       "  State/Province Geographic Grouping Flu Season Submission Date  ...    \\\n",
       "0        Alabama       North America      17-18      2018-03-24  ...     \n",
       "1        Alabama       North America      17-18      2018-03-24  ...     \n",
       "2        Alabama       North America      17-18      2018-03-24  ...     \n",
       "\n",
       "          Sensitive Drug Resistant Drug Submission Date.1 NCBI Taxon ID  \\\n",
       "0                  -N/A-          -N/A-        03/24/2018         11320   \n",
       "1  Oseltamivir,Zanamivir          -N/A-        03/24/2018         11320   \n",
       "2                  -N/A-          -N/A-        03/24/2018         11320   \n",
       "\n",
       "                             pH1N1-like US Swine H1 Clade  \\\n",
       "0  Mixed Positive and Negative Segments              npdm   \n",
       "1  Mixed Positive and Negative Segments              npdm   \n",
       "2                              Negative             -N/A-   \n",
       "\n",
       "  Global Swine H1 Clade test H5 Clade Unnamed: 52 abbrev  \n",
       "0                   1A.3.3.2    -N/A-         NaN     AL  \n",
       "1                   1A.3.3.2    -N/A-         NaN     AL  \n",
       "2                      -N/A-    -N/A-         NaN     AL  \n",
       "\n",
       "[3 rows x 54 columns]"
      ]
     },
     "execution_count": 7,
     "metadata": {},
     "output_type": "execute_result"
    }
   ],
   "source": [
    "# Using pandas.DataFrame.map function to create a new column 'abbrev' with proper two-letter State abbreviation\n",
    "# for both fluA and fluB dataframes\n",
    "\n",
    "df_fluA['abbrev'] = df_fluA['State/Province'].map(us_state_abbrev)\n",
    "df_fluB['abbrev'] = df_fluB['State/Province'].map(us_state_abbrev)\n",
    "df_fluA.head(3)"
   ]
  },
  {
   "cell_type": "code",
   "execution_count": 13,
   "metadata": {},
   "outputs": [],
   "source": [
    "# merge the two dataframes\n",
    "\n",
    "df_all = pd.merge(df_fluA, df_fluB, how = 'outer')"
   ]
  },
  {
   "cell_type": "code",
   "execution_count": 19,
   "metadata": {},
   "outputs": [
    {
     "data": {
      "text/plain": [
       "9"
      ]
     },
     "execution_count": 19,
     "metadata": {},
     "output_type": "execute_result"
    }
   ],
   "source": [
    "# save file\n",
    "\n",
    "new_file = open('fluAB.csv', 'w+')\n",
    "df_all.to_csv('fluAB.csv', sep='\\t')\n",
    "new_file.write('fluAB.csv')"
   ]
  },
  {
   "cell_type": "code",
   "execution_count": 22,
   "metadata": {},
   "outputs": [
    {
     "data": {
      "text/html": [
       "<div>\n",
       "<style scoped>\n",
       "    .dataframe tbody tr th:only-of-type {\n",
       "        vertical-align: middle;\n",
       "    }\n",
       "\n",
       "    .dataframe tbody tr th {\n",
       "        vertical-align: top;\n",
       "    }\n",
       "\n",
       "    .dataframe thead th {\n",
       "        text-align: right;\n",
       "    }\n",
       "</style>\n",
       "<table border=\"1\" class=\"dataframe\">\n",
       "  <thead>\n",
       "    <tr style=\"text-align: right;\">\n",
       "      <th></th>\n",
       "      <th>abbrev</th>\n",
       "      <th>counts</th>\n",
       "    </tr>\n",
       "  </thead>\n",
       "  <tbody>\n",
       "    <tr>\n",
       "      <th>2</th>\n",
       "      <td>FL</td>\n",
       "      <td>211</td>\n",
       "    </tr>\n",
       "    <tr>\n",
       "      <th>37</th>\n",
       "      <td>AL</td>\n",
       "      <td>65</td>\n",
       "    </tr>\n",
       "    <tr>\n",
       "      <th>4</th>\n",
       "      <td>MN</td>\n",
       "      <td>176</td>\n",
       "    </tr>\n",
       "  </tbody>\n",
       "</table>\n",
       "</div>"
      ],
      "text/plain": [
       "   abbrev  counts\n",
       "2      FL     211\n",
       "37     AL      65\n",
       "4      MN     176"
      ]
     },
     "execution_count": 22,
     "metadata": {},
     "output_type": "execute_result"
    }
   ],
   "source": [
    "# create a new series object, and place into a dataframe to load into my choropleth map\n",
    "\n",
    "all_cts = df_all['abbrev'].value_counts()\n",
    "\n",
    "df_all_cts = pd.DataFrame(all_cts)\n",
    "df_all_cts = df_all_cts.reset_index()\n",
    "df_all_cts.columns = ['abbrev', 'counts']\n",
    "df_all_cts.sample(3)"
   ]
  },
  {
   "cell_type": "code",
   "execution_count": null,
   "metadata": {},
   "outputs": [],
   "source": []
  },
  {
   "cell_type": "code",
   "execution_count": 24,
   "metadata": {},
   "outputs": [
    {
     "data": {
      "text/plain": [
       "10"
      ]
     },
     "execution_count": 24,
     "metadata": {},
     "output_type": "execute_result"
    }
   ],
   "source": [
    "# save file\n",
    "\n",
    "new_file = open('fluAB1.csv', 'w+')\n",
    "df_all_cts.to_csv('fluAB1.csv', sep='\\t')\n",
    "new_file.write('fluAB1.csv')"
   ]
  },
  {
   "cell_type": "code",
   "execution_count": 10,
   "metadata": {
    "code_folding": []
   },
   "outputs": [],
   "source": [
    "data_all = dict(\n",
    "        type = 'choropleth',\n",
    "        colorscale = 'Greens',\n",
    "        reversescale = True,\n",
    "        locations = df_all_cts['abbrev'],\n",
    "        z = df_all_cts['counts'],\n",
    "        locationmode = 'USA-states',\n",
    "        text = ['State/Province'],\n",
    "        marker = dict(line = dict(color = 'rgb(255,255,255)',width = 1)),\n",
    "        colorbar = {'title':'Reported cases'}\n",
    "            ) "
   ]
  },
  {
   "cell_type": "code",
   "execution_count": 11,
   "metadata": {
    "code_folding": []
   },
   "outputs": [],
   "source": [
    "layout = dict(title = 'Influenza Research Database Reported Cases 2017-18',\n",
    "              geo = dict(scope='usa',\n",
    "                         showlakes = True,\n",
    "                         lakecolor = 'rgb(85,173,240)')\n",
    "             )\n",
    "             "
   ]
  },
  {
   "cell_type": "code",
   "execution_count": 12,
   "metadata": {
    "code_folding": []
   },
   "outputs": [
    {
     "data": {
      "application/vnd.plotly.v1+json": {
       "data": [
        {
         "colorbar": {
          "title": "Reported cases"
         },
         "colorscale": "Greens",
         "locationmode": "USA-states",
         "locations": [
          "CA",
          "IA",
          "FL",
          "TX",
          "MN",
          "IL",
          "NC",
          "MD",
          "OH",
          "MO",
          "AZ",
          "NY",
          "SD",
          "WA",
          "AK",
          "OK",
          "MT",
          "CO",
          "UT",
          "VA",
          "HI",
          "PA",
          "WI",
          "NJ",
          "IN",
          "DE",
          "MI",
          "CT",
          "MS",
          "NE",
          "GA",
          "WV",
          "ID",
          "KY",
          "KS",
          "OR",
          "ND",
          "AL",
          "ME",
          "WY",
          "NM",
          "TN",
          "LA",
          "MA",
          "AR",
          "NH",
          "SC",
          "VT",
          "NV",
          "RI"
         ],
         "marker": {
          "line": {
           "color": "rgb(255,255,255)",
           "width": 1
          }
         },
         "reversescale": true,
         "text": [
          "State/Province"
         ],
         "type": "choropleth",
         "uid": "976132a4-1db4-11e9-875d-a45e60ee8a67",
         "z": [
          473,
          419,
          211,
          182,
          176,
          164,
          159,
          150,
          139,
          124,
          120,
          111,
          108,
          107,
          105,
          102,
          101,
          97,
          94,
          94,
          92,
          89,
          88,
          88,
          87,
          85,
          82,
          80,
          79,
          77,
          75,
          73,
          72,
          71,
          69,
          66,
          66,
          65,
          60,
          58,
          52,
          52,
          52,
          50,
          49,
          49,
          37,
          37,
          28,
          15
         ]
        }
       ],
       "layout": {
        "geo": {
         "lakecolor": "rgb(85,173,240)",
         "scope": "usa",
         "showlakes": true
        },
        "title": "Influenza Research Database Reported Cases 2017-18"
       }
      },
      "text/html": [
       "<div id=\"f84981f5-4fcf-4137-acf2-7bae12890d68\" style=\"height: 525px; width: 100%;\" class=\"plotly-graph-div\"></div><script type=\"text/javascript\">require([\"plotly\"], function(Plotly) { window.PLOTLYENV=window.PLOTLYENV || {};window.PLOTLYENV.BASE_URL=\"https://plot.ly\";Plotly.newPlot(\"f84981f5-4fcf-4137-acf2-7bae12890d68\", [{\"colorbar\": {\"title\": \"Reported cases\"}, \"colorscale\": \"Greens\", \"locationmode\": \"USA-states\", \"locations\": [\"CA\", \"IA\", \"FL\", \"TX\", \"MN\", \"IL\", \"NC\", \"MD\", \"OH\", \"MO\", \"AZ\", \"NY\", \"SD\", \"WA\", \"AK\", \"OK\", \"MT\", \"CO\", \"UT\", \"VA\", \"HI\", \"PA\", \"WI\", \"NJ\", \"IN\", \"DE\", \"MI\", \"CT\", \"MS\", \"NE\", \"GA\", \"WV\", \"ID\", \"KY\", \"KS\", \"OR\", \"ND\", \"AL\", \"ME\", \"WY\", \"NM\", \"TN\", \"LA\", \"MA\", \"AR\", \"NH\", \"SC\", \"VT\", \"NV\", \"RI\"], \"marker\": {\"line\": {\"color\": \"rgb(255,255,255)\", \"width\": 1}}, \"reversescale\": true, \"text\": [\"State/Province\"], \"z\": [473, 419, 211, 182, 176, 164, 159, 150, 139, 124, 120, 111, 108, 107, 105, 102, 101, 97, 94, 94, 92, 89, 88, 88, 87, 85, 82, 80, 79, 77, 75, 73, 72, 71, 69, 66, 66, 65, 60, 58, 52, 52, 52, 50, 49, 49, 37, 37, 28, 15], \"type\": \"choropleth\", \"uid\": \"976132a4-1db4-11e9-875d-a45e60ee8a67\"}], {\"geo\": {\"lakecolor\": \"rgb(85,173,240)\", \"scope\": \"usa\", \"showlakes\": true}, \"title\": \"Influenza Research Database Reported Cases 2017-18\"}, {\"showLink\": true, \"linkText\": \"Export to plot.ly\"})});</script>"
      ],
      "text/vnd.plotly.v1+html": [
       "<div id=\"f84981f5-4fcf-4137-acf2-7bae12890d68\" style=\"height: 525px; width: 100%;\" class=\"plotly-graph-div\"></div><script type=\"text/javascript\">require([\"plotly\"], function(Plotly) { window.PLOTLYENV=window.PLOTLYENV || {};window.PLOTLYENV.BASE_URL=\"https://plot.ly\";Plotly.newPlot(\"f84981f5-4fcf-4137-acf2-7bae12890d68\", [{\"colorbar\": {\"title\": \"Reported cases\"}, \"colorscale\": \"Greens\", \"locationmode\": \"USA-states\", \"locations\": [\"CA\", \"IA\", \"FL\", \"TX\", \"MN\", \"IL\", \"NC\", \"MD\", \"OH\", \"MO\", \"AZ\", \"NY\", \"SD\", \"WA\", \"AK\", \"OK\", \"MT\", \"CO\", \"UT\", \"VA\", \"HI\", \"PA\", \"WI\", \"NJ\", \"IN\", \"DE\", \"MI\", \"CT\", \"MS\", \"NE\", \"GA\", \"WV\", \"ID\", \"KY\", \"KS\", \"OR\", \"ND\", \"AL\", \"ME\", \"WY\", \"NM\", \"TN\", \"LA\", \"MA\", \"AR\", \"NH\", \"SC\", \"VT\", \"NV\", \"RI\"], \"marker\": {\"line\": {\"color\": \"rgb(255,255,255)\", \"width\": 1}}, \"reversescale\": true, \"text\": [\"State/Province\"], \"z\": [473, 419, 211, 182, 176, 164, 159, 150, 139, 124, 120, 111, 108, 107, 105, 102, 101, 97, 94, 94, 92, 89, 88, 88, 87, 85, 82, 80, 79, 77, 75, 73, 72, 71, 69, 66, 66, 65, 60, 58, 52, 52, 52, 50, 49, 49, 37, 37, 28, 15], \"type\": \"choropleth\", \"uid\": \"976132a4-1db4-11e9-875d-a45e60ee8a67\"}], {\"geo\": {\"lakecolor\": \"rgb(85,173,240)\", \"scope\": \"usa\", \"showlakes\": true}, \"title\": \"Influenza Research Database Reported Cases 2017-18\"}, {\"showLink\": true, \"linkText\": \"Export to plot.ly\"})});</script>"
      ]
     },
     "metadata": {},
     "output_type": "display_data"
    }
   ],
   "source": [
    "choromap = go.Figure(data = [data_all],layout = layout)\n",
    "iplot(choromap,validate=False)"
   ]
  },
  {
   "cell_type": "markdown",
   "metadata": {},
   "source": [
    "This is a fairly simplified example of reporting the case number by state. Further detail could include case breakdown by subtype per state, or converting this into a bivariate map by adding some additional variable from the dataframe, such as known drug sensitivity.\n",
    "\n",
    "This should be fine since the dataset is relatively small and restricted (only from one data source), but could be expanded if needed to accommodate a large dataset with loads of interesting variable combinations. "
   ]
  },
  {
   "cell_type": "markdown",
   "metadata": {},
   "source": [
    "  \n",
    "  "
   ]
  }
 ],
 "metadata": {
  "kernelspec": {
   "display_name": "Python 3",
   "language": "python",
   "name": "python3"
  },
  "language_info": {
   "codemirror_mode": {
    "name": "ipython",
    "version": 3
   },
   "file_extension": ".py",
   "mimetype": "text/x-python",
   "name": "python",
   "nbconvert_exporter": "python",
   "pygments_lexer": "ipython3",
   "version": "3.7.0"
  }
 },
 "nbformat": 4,
 "nbformat_minor": 2
}
