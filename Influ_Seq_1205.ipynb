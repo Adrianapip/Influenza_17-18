{
 "cells": [
  {
   "cell_type": "markdown",
   "metadata": {},
   "source": [
    "GOAL: Present alignment skills\n",
    "* BioPython\n",
    "* Python\n",
    "* MUSCLE\n",
    "* algorithm development\n",
    "* Computing a conservation score\n",
    "\n",
    "[Large-Scale Sequence Analysis of Hemagglutinin of Influenza A Virus Identifies Conserved Regions Suitable for Targeting an Anti-Viral Response](https://journals.plos.org/plosone/article?id=10.1371/journal.pone.0009268)\n",
    "\n",
    "They are aligning proteins, not RNA.\n",
    "\n",
    "1. full length HA sequences download\n",
    "2. seperate files for each H1, H2 etc\n",
    "3. align each subtype using MUSCLE 3.6 - filtering out frameshifts and partials\n",
    "4. each profile for each multiple alignment then aligned to other profiles using profile-profile aligner COMPASS\n",
    "5. Compute a conservation score for each column of the final alignment\n",
    "\n",
    "[Identification of potential conserved RNA secondary structure throughout influenza A coding regions](https://rnajournal.cshlp.org/content/17/6/991.full_)\n",
    "\n",
    "1. Interesting that this paper aligns first based on protein, then RNA\n",
    "2. six full influenza sets were downloaded from human avian swine\n",
    "3. divide each by segment\n",
    "4. coding regions translated with BioEdit\n",
    "5. protein sequences aligned with ClustalW\n",
    "6. aligned sequences turned back into nt, submitted to RNAz 2.0 for conserved structures\n",
    "\n",
    "Now that I've downloaded all the records that I need and gotten an idea of what they hold, it's time to look at sequences in an attempt to answer question 3: which is how similiar were the recommended vaccine strains to the reported sequences during the 17-18 season. \n",
    "\n",
    "How do I compare the differences between the sequences? Will have to look into BioPython to see what in available in that library to compare genetics. \n",
    "\n",
    "First I'm going to attempt to download the vaccine candidate sequences from NCBI.\n",
    "\n",
    "First one is A/Michigan/45/2015 (H1N1) pdm09-like virus\n",
    "\n",
    "Retrieve that from IRD"
   ]
  },
  {
   "cell_type": "code",
   "execution_count": 7,
   "metadata": {},
   "outputs": [],
   "source": [
    "# Import data analysis libraries \n",
    "import numpy as np\n",
    "import pandas as pd\n",
    "\n",
    "# Import visualization libraries\n",
    "import seaborn as sns\n",
    "sns.set_style('whitegrid')\n",
    "sns.set_context('paper', font_scale=1.)\n",
    "import matplotlib.pyplot as plt\n",
    "%matplotlib inline "
   ]
  },
  {
   "cell_type": "code",
   "execution_count": 8,
   "metadata": {},
   "outputs": [
    {
     "data": {
      "text/plain": [
       "Index(['Strain Name', 'Complete Genome', 'Subtype', 'Collection Date', 'Host',\n",
       "       'Country', 'State/Province', 'Geographic Grouping', 'Flu Season',\n",
       "       'Submission Date', 'Passage History', 'Specimen Source Health Status',\n",
       "       '1 PB2', '2 PB1', '3 PA', '4 HA', '5 NP', '6 NA', '7 MP', '8 NS', 'Age',\n",
       "       'Gender', 'M2 31N', 'M2 26F', 'M2 27A', 'M2 30T', 'M2 34E',\n",
       "       'NA 275Y N1', 'NA 292K N2', 'NA 119V N2', 'NA 294S N2', 'PB1-F2 66S',\n",
       "       'PB2 E627K', 'PB2 D701N', 'PB2 A199S', 'PB2 A661T', 'PB2 V667I',\n",
       "       'PB2 K702R', 'PA S409N', 'NP L136M', 'M2 A16G', 'M2 C55F', 'NS1 T92E',\n",
       "       'RERRRKKR', 'Sensitive Drug', 'Resistant Drug', 'Submission Date.1',\n",
       "       'NCBI Taxon ID', 'pH1N1-like', 'US Swine H1 Clade',\n",
       "       'Global Swine H1 Clade test', 'H5 Clade', 'Unnamed: 52'],\n",
       "      dtype='object')"
      ]
     },
     "execution_count": 8,
     "metadata": {},
     "output_type": "execute_result"
    }
   ],
   "source": [
    "#Load up the vaccine candidate sequences into a dataframe, first with H1N1\n",
    "\n",
    "AM42_H1N1_db = pd.read_csv('A-michigan-45-2015.tsv', sep='\\t')\n",
    "AM42_H1N1_db.columns"
   ]
  },
  {
   "cell_type": "code",
   "execution_count": 9,
   "metadata": {},
   "outputs": [
    {
     "data": {
      "text/html": [
       "<div>\n",
       "<style scoped>\n",
       "    .dataframe tbody tr th:only-of-type {\n",
       "        vertical-align: middle;\n",
       "    }\n",
       "\n",
       "    .dataframe tbody tr th {\n",
       "        vertical-align: top;\n",
       "    }\n",
       "\n",
       "    .dataframe thead th {\n",
       "        text-align: right;\n",
       "    }\n",
       "</style>\n",
       "<table border=\"1\" class=\"dataframe\">\n",
       "  <thead>\n",
       "    <tr style=\"text-align: right;\">\n",
       "      <th></th>\n",
       "      <th>Strain Name</th>\n",
       "      <th>Complete Genome</th>\n",
       "      <th>Subtype</th>\n",
       "      <th>Collection Date</th>\n",
       "      <th>Host</th>\n",
       "      <th>Country</th>\n",
       "      <th>State/Province</th>\n",
       "      <th>Geographic Grouping</th>\n",
       "      <th>Flu Season</th>\n",
       "      <th>Submission Date</th>\n",
       "      <th>...</th>\n",
       "      <th>RERRRKKR</th>\n",
       "      <th>Sensitive Drug</th>\n",
       "      <th>Resistant Drug</th>\n",
       "      <th>Submission Date.1</th>\n",
       "      <th>NCBI Taxon ID</th>\n",
       "      <th>pH1N1-like</th>\n",
       "      <th>US Swine H1 Clade</th>\n",
       "      <th>Global Swine H1 Clade test</th>\n",
       "      <th>H5 Clade</th>\n",
       "      <th>Unnamed: 52</th>\n",
       "    </tr>\n",
       "  </thead>\n",
       "  <tbody>\n",
       "    <tr>\n",
       "      <th>0</th>\n",
       "      <td>A/Michigan/45/2015</td>\n",
       "      <td>Yes</td>\n",
       "      <td>H1N1</td>\n",
       "      <td>09/07/2015</td>\n",
       "      <td>Human</td>\n",
       "      <td>USA</td>\n",
       "      <td>Michigan</td>\n",
       "      <td>North America</td>\n",
       "      <td>-N/A-</td>\n",
       "      <td>2017-08-24</td>\n",
       "      <td>...</td>\n",
       "      <td>No</td>\n",
       "      <td>-N/A-</td>\n",
       "      <td>-N/A-</td>\n",
       "      <td>08/24/2017</td>\n",
       "      <td>1777792</td>\n",
       "      <td>Mixed Positive and Negative Segments</td>\n",
       "      <td>npdm</td>\n",
       "      <td>1A.3.3.2</td>\n",
       "      <td>-N/A-</td>\n",
       "      <td>NaN</td>\n",
       "    </tr>\n",
       "  </tbody>\n",
       "</table>\n",
       "<p>1 rows × 53 columns</p>\n",
       "</div>"
      ],
      "text/plain": [
       "          Strain Name Complete Genome Subtype Collection Date   Host Country  \\\n",
       "0  A/Michigan/45/2015             Yes    H1N1      09/07/2015  Human     USA   \n",
       "\n",
       "  State/Province Geographic Grouping Flu Season Submission Date     ...      \\\n",
       "0       Michigan       North America      -N/A-      2017-08-24     ...       \n",
       "\n",
       "  RERRRKKR Sensitive Drug Resistant Drug Submission Date.1 NCBI Taxon ID  \\\n",
       "0       No          -N/A-          -N/A-        08/24/2017       1777792   \n",
       "\n",
       "                             pH1N1-like US Swine H1 Clade  \\\n",
       "0  Mixed Positive and Negative Segments              npdm   \n",
       "\n",
       "  Global Swine H1 Clade test H5 Clade Unnamed: 52  \n",
       "0                   1A.3.3.2    -N/A-         NaN  \n",
       "\n",
       "[1 rows x 53 columns]"
      ]
     },
     "execution_count": 9,
     "metadata": {},
     "output_type": "execute_result"
    }
   ],
   "source": [
    "AM42_H1N1_db.head(3)"
   ]
  },
  {
   "cell_type": "markdown",
   "metadata": {},
   "source": [
    "OK, lets look at just the HA segment - column named '4 HA'"
   ]
  },
  {
   "cell_type": "code",
   "execution_count": 10,
   "metadata": {},
   "outputs": [
    {
     "data": {
      "text/plain": [
       "0    KY117023,KY090610,KU933493,KU509703\n",
       "Name: 4 HA, dtype: object"
      ]
     },
     "execution_count": 10,
     "metadata": {},
     "output_type": "execute_result"
    }
   ],
   "source": [
    "AM42_H1N1_db['4 HA']"
   ]
  },
  {
   "cell_type": "code",
   "execution_count": 11,
   "metadata": {},
   "outputs": [
    {
     "name": "stdout",
     "output_type": "stream",
     "text": [
      "['KY117023', 'KY090610', 'KU933493', 'KU509703']\n"
     ]
    }
   ],
   "source": [
    "#going to put this into a list so can interate over and call into NCBI\n",
    "#listing the contents of a column will yield a series, not a list so need to call .tolist() to convert\n",
    "\n",
    "acc_list = AM42_H1N1_db['4 HA'].tolist()\n",
    "acc_list = acc_list[0].split(',')\n",
    "print(acc_list)"
   ]
  },
  {
   "cell_type": "markdown",
   "metadata": {},
   "source": [
    "So this give me the accession numbers in a list. Going iterate over this list to call into NCBI and download these sequences and put this into a database."
   ]
  },
  {
   "cell_type": "code",
   "execution_count": 12,
   "metadata": {},
   "outputs": [
    {
     "data": {
      "text/html": [
       "<div>\n",
       "<style scoped>\n",
       "    .dataframe tbody tr th:only-of-type {\n",
       "        vertical-align: middle;\n",
       "    }\n",
       "\n",
       "    .dataframe tbody tr th {\n",
       "        vertical-align: top;\n",
       "    }\n",
       "\n",
       "    .dataframe thead th {\n",
       "        text-align: right;\n",
       "    }\n",
       "</style>\n",
       "<table border=\"1\" class=\"dataframe\">\n",
       "  <thead>\n",
       "    <tr style=\"text-align: right;\">\n",
       "      <th></th>\n",
       "      <th>accession</th>\n",
       "      <th>FASTA</th>\n",
       "    </tr>\n",
       "  </thead>\n",
       "  <tbody>\n",
       "    <tr>\n",
       "      <th>0</th>\n",
       "      <td>KY117023</td>\n",
       "      <td>&gt;KY117023.1 Influenza A virus (A/Michigan/45/2...</td>\n",
       "    </tr>\n",
       "    <tr>\n",
       "      <th>1</th>\n",
       "      <td>KY090610</td>\n",
       "      <td>&gt;KY090610.1 Influenza A virus (A/Michigan/45/2...</td>\n",
       "    </tr>\n",
       "    <tr>\n",
       "      <th>2</th>\n",
       "      <td>KU933493</td>\n",
       "      <td>&gt;KU933493.1 Influenza A virus (A/Michigan/45/2...</td>\n",
       "    </tr>\n",
       "    <tr>\n",
       "      <th>3</th>\n",
       "      <td>KU509703</td>\n",
       "      <td>&gt;KU509703.1 Influenza A virus (A/Michigan/45/2...</td>\n",
       "    </tr>\n",
       "  </tbody>\n",
       "</table>\n",
       "</div>"
      ],
      "text/plain": [
       "  accession                                              FASTA\n",
       "0  KY117023  >KY117023.1 Influenza A virus (A/Michigan/45/2...\n",
       "1  KY090610  >KY090610.1 Influenza A virus (A/Michigan/45/2...\n",
       "2  KU933493  >KU933493.1 Influenza A virus (A/Michigan/45/2...\n",
       "3  KU509703  >KU509703.1 Influenza A virus (A/Michigan/45/2..."
      ]
     },
     "execution_count": 12,
     "metadata": {},
     "output_type": "execute_result"
    }
   ],
   "source": [
    "# Using the Bio Entrez module, going to retreive the sequence data the four accession nos\n",
    "# Then add this to a new dataframe for storage.\n",
    "\n",
    "from Bio import Entrez\n",
    "\n",
    "Entrez.email = \"adriana@dranalytics.co\"\n",
    "df = pd.DataFrame(columns=['accession', 'FASTA'])\n",
    "\n",
    "\n",
    "for i in range(len(acc_list)):\n",
    "    FASTA = Entrez.efetch(db=\"nucleotide\", id=acc_list[i], rettype=\"fasta\", retmode=\"text\").read()\n",
    "    df.loc[i] = {'accession': acc_list[i], 'FASTA': FASTA}\n",
    "\n",
    "df.head(6)\n"
   ]
  },
  {
   "cell_type": "markdown",
   "metadata": {},
   "source": [
    "Now going to attempt an alignment - understand how different are the strains at the sequence level\n",
    "Difference between global (stretcher), local (blastn) , semi-global alignment (minimap2)\n",
    "\n",
    "[Pairwise2](http://biopython.org/DIST/docs/api/Bio.pairwise2-module.html)"
   ]
  },
  {
   "cell_type": "code",
   "execution_count": 13,
   "metadata": {},
   "outputs": [
    {
     "name": "stdout",
     "output_type": "stream",
     "text": [
      ">KY1----17023.1 Influenza A virus (A/Michigan/45/2015(H1N1)) segment 4 hemagglutinin (HA) gene, complete cds\n",
      "GGAAAAACAAAAGCAACAAAAATGAAGGCAATACTAGTAGTTCTGCTATATACATTTACAACCGCAAATG\n",
      "CAGACACATTATGTATAGGTT-ATCATGCGAACAATTCAACAGACACTGTAGACACAGTACTAGAAAAGAA\n",
      "TGTAACAGTAACACACTCTGT-TAACCTTCTGGAAGACAAGCATAACGGAAAACTATGCAAACTAAGAGGG\n",
      "GTAGCCCCATTGCATTTGGGT-AAATGTAACATTGCTGGCTGGATCCTGGGAAATCCAGAGTGTGAATCAC\n",
      "TCTCCACAGCAAGTTCATGGT-CCTACATTGTGGAAACATCTAATTCAGACAATGGAACGTGTTACCCAGG\n",
      "AGATTTCATCAATTATGAGGA-GCTAAGAGAGCAATTGAGCTCAGTGTCATCATTTGAAAGGTTTGAGATA\n",
      "TTCCCCAAGACAAGTTCATGG-CCCAATCATGACTCGAACAAAGGTGTAACGGCAGCATGTCCTCACGCTG\n",
      "GAGCAAAAAGCTTCTACAAAA-ACTTGATATGGCTAGTTAAAAAAGGAAATTCATACCCAAAGCTTAACCA\n",
      "ATCCTACATTAATGATAAAGG-GAAAGAAGTCCTCGTGCTGTGGGGCATTCACCATCCATCTACTACTGCT\n",
      "GACCAACAAAGTCTCTATCAG-AATGCAGATGCATATGTTTTTGTGGGGACATCAAGATACAGCAAGAAGT\n",
      "TCAAGCCGGAAATAGCAACAA-GACCCAAAGTGAGGGATCAAGAAGGGAGAATGAACTATTACTGGACACT\n",
      "AGTAGAGCCGGGAGACAAAAT-AACATTCGAAGCAACTGGAAATCTAGTGGTACCGAGATATGCATTCACA\n",
      "ATGGAAAGAAATGCTGGATCT-GGTATTATCATTTCAGATACACCAGTCCACGATTGCAATACAACTTGTC\n",
      "AGACACCCGAGGGTGCTATAA-ACACCAGCCTCCCATTTCAGAATATACATCCGATCACAATTGGAAAATG\n",
      "TCCAAAGTATGTAAAAAGCAC-AAAATTGAGACTGGCCACAGGATTGAGGAATGTTCCGTCTATTCAATCT\n",
      "AGAGGCCTATTCGGGGCCATT-GCCGGCTTCATTGAAGGGGGGTGGACAGGGATGGTAGATGGATGGTACG\n",
      "GTTATCACCATCAAAATGAGC-AGGGGTCAGGATATGCAGCCGACCTGAAGAGCACACAAAATGCCATTGA\n",
      "CAAGATTACTAACAAAGTAAA-TTCTGTTATTGAAAAGATGAATACACAGTTCACAGCAGTGGGTAAAGAG\n",
      "TTCAACCACCTGGAAAAAAGA-ATAGAGAATCTAAATAAAAAAGTTGATGATGGTTTCCTGGACATTTGGA\n",
      "CTTACAATGCCGAACTGTTGG-TTCTATTGGAAAATGAAAGAACTTTGGACTATCACGATTCAAATGTGAA\n",
      "GAACTTGTATGAAAAAGTAAG-AAACCAGTTAAAAAACAATGCCAAGGAAATTGGAAACGGCTGCTTTGAA\n",
      "TTTTACCACAAATGCGATAAC-ACGTGCATGGAAAGTGTCAAAAATGGGACTTATGACTACCCAAAATACT\n",
      "CAGAGGAAGCAAAATTAAACA-GAGAAAAAATAGATGGGGTAAAGCTGGAATCAACAAGGATTTACCAGAT\n",
      "TTTGGCGATCTATTCAACTGT-CGCCAGTTCATTGGTACTGGTAGTCTCCCTGGGGGCAATCAGCTTCTGG\n",
      "ATGTGCTCTAATGGGTCTCTA-CAGTGTAGAATATGTATTTAACATTAGGATTTCAGAATCATGAGAAAAA\n",
      "CAC\n",
      "\n",
      "\n",
      "|||     | |  ||||||||||||||||||||||||||||||||||||||||||||||||||||||||||||||||||||||||||||||||||||||||||||||||                     ||||||||||||||||||||||||||||||||||||||||||||||||| ||||||||||||||||||||| ||||||||||||||||||||||||||||||||||||||||||||||||| ||||||||||||||||||||| ||||||||||||||||||||||||||||||||||||||||||||||||| ||||||||||||||||||||| ||||||||||||||||||||||||||||||||||||||||||||||||| ||||||||||||||||||||| ||||||||||||||||||||||||||||||||||||||||||||||||| ||||||||||||||||||||| ||||||||||||||||||||||||||||||||||||||||||||||||| ||||||||||||||||||||| ||||||||||||||||||||||||||||||||||||||||||||||||| ||||||||||||||||||||| ||||||||||||||||||||||||||||||||||||||||||||||||| ||||||||||||||||||||| ||||||||||||||||||||||||||||||||||||||||||||||||| ||||||||||||||||||||| ||||||||||||||||||||||||||||||||||||||||||||||||| ||||||||||||||||||||| ||||||||||||||||||||||||||||||||||||||||||||||||| ||||||||||||||||||||| ||||||||||||||||||||||||||||||||||||||||||||||||| ||||||||||||||||||||| ||||||||||||||||||||||||||||||||||||||||||||||||| ||||||||||||||||||||| ||||||||||||||||||||||||||||||||||||||||||||||||| ||||||||||||||||||||| ||||||||||||||||||||||||||||||||||||||||||||||||| ||||||||||||||||||||| ||||||||||||||||||||||||||||||||||||||||||||||||| ||||||||||||||||||||| ||||||||||||||||||||||||||||||||||||||||||||||||| ||||||||||||||||||||| ||||||||||||||||||||||||||||||||||||||||||||||||| ||||||||||||||||||||| ||||||||||||||||||||||||||||||||||||||||||||||||| ||||||||||||||||||||| ||||||||||||||||||||||||||||||||||||||||||||||||| ||||||||||||||||||||| ||||||||||||||||||||||||||||||||||||||||||||||||| ||||||||||||||||||||| ||||||||||||||||||||||||||||||||||||||||||||||||| ||||||||||||||||||||| ||||||||||||||||||||||||||||||||||||||||||||||||| ||||||||||||||||||||| ||||||||||||||||||||||||||||||||||||||||||||||||| ||||||||||||||||||||| ||||||||||||||          |   |  |     |  |       |  | ||\n",
      ">KY-09061-0--.1 Influenza A virus (A/Michigan/45/2015(H1N1)) segment 4 hemagglutinin (HA) gene, complete cds\n",
      "---------------------ATGAAGGCAATACTAGTAGTTCTGCTATATACATTTACAACCGCAAATG-CAGACACATTATGTATAGGTT\n",
      "ATCATGCGAACAATTCAACAGACACTGTAGACACAGTACTAGAAAAGAA-TGTAACAGTAACACACTCTGT\n",
      "TAACCTTCTGGAAGACAAGCATAACGGAAAACTATGCAAACTAAGAGGG-GTAGCCCCATTGCATTTGGGT\n",
      "AAATGTAACATTGCTGGCTGGATCCTGGGAAATCCAGAGTGTGAATCAC-TCTCCACAGCAAGTTCATGGT\n",
      "CCTACATTGTGGAAACATCTAATTCAGACAATGGAACGTGTTACCCAGG-AGATTTCATCAATTATGAGGA\n",
      "GCTAAGAGAGCAATTGAGCTCAGTGTCATCATTTGAAAGGTTTGAGATA-TTCCCCAAGACAAGTTCATGG\n",
      "CCCAATCATGACTCGAACAAAGGTGTAACGGCAGCATGTCCTCACGCTG-GAGCAAAAAGCTTCTACAAAA\n",
      "ACTTGATATGGCTAGTTAAAAAAGGAAATTCATACCCAAAGCTTAACCA-ATCCTACATTAATGATAAAGG\n",
      "GAAAGAAGTCCTCGTGCTGTGGGGCATTCACCATCCATCTACTACTGCT-GACCAACAAAGTCTCTATCAG\n",
      "AATGCAGATGCATATGTTTTTGTGGGGACATCAAGATACAGCAAGAAGT-TCAAGCCGGAAATAGCAACAA\n",
      "GACCCAAAGTGAGGGATCAAGAAGGGAGAATGAACTATTACTGGACACT-AGTAGAGCCGGGAGACAAAAT\n",
      "AACATTCGAAGCAACTGGAAATCTAGTGGTACCGAGATATGCATTCACA-ATGGAAAGAAATGCTGGATCT\n",
      "GGTATTATCATTTCAGATACACCAGTCCACGATTGCAATACAACTTGTC-AGACACCCGAGGGTGCTATAA\n",
      "ACACCAGCCTCCCATTTCAGAATATACATCCGATCACAATTGGAAAATG-TCCAAAGTATGTAAAAAGCAC\n",
      "AAAATTGAGACTGGCCACAGGATTGAGGAATGTTCCGTCTATTCAATCT-AGAGGCCTATTCGGGGCCATT\n",
      "GCCGGCTTCATTGAAGGGGGGTGGACAGGGATGGTAGATGGATGGTACG-GTTATCACCATCAAAATGAGC\n",
      "AGGGGTCAGGATATGCAGCCGACCTGAAGAGCACACAAAATGCCATTGA-CAAGATTACTAACAAAGTAAA\n",
      "TTCTGTTATTGAAAAGATGAATACACAGTTCACAGCAGTGGGTAAAGAG-TTCAACCACCTGGAAAAAAGA\n",
      "ATAGAGAATCTAAATAAAAAAGTTGATGATGGTTTCCTGGACATTTGGA-CTTACAATGCCGAACTGTTGG\n",
      "TTCTATTGGAAAATGAAAGAACTTTGGACTATCACGATTCAAATGTGAA-GAACTTGTATGAAAAAGTAAG\n",
      "AAACCAGTTAAAAAACAATGCCAAGGAAATTGGAAACGGCTGCTTTGAA-TTTTACCACAAATGCGATAAC\n",
      "ACGTGCATGGAAAGTGTCAAAAATGGGACTTATGACTACCCAAAATACT-CAGAGGAAGCAAAATTAAACA\n",
      "GAGAAAAAATAGATGGGGTAAAGCTGGAATCAACAAGGATTTACCAGAT-TTTGGCGATCTATTCAACTGT\n",
      "CGCCAGTTCATTGGTACTGGTAGTCTCCCTGGGGGCAATCAGCTTCTGG-ATGTGCTCTAATGGGTCTCTA\n",
      "CAGTGTAGAATATG----------T---A--T-----T--T-------A--A-\n",
      "\n",
      "\n",
      "  Score=1804\n",
      "\n"
     ]
    }
   ],
   "source": [
    "# Using pairwise2 module allows pairwise sequence alignment for global and local alignments\n",
    "\n",
    "from Bio import pairwise2\n",
    "from Bio.pairwise2 import format_alignment\n",
    "\n",
    "seq1 = df.loc[0,'FASTA']\n",
    "seq2 = df.loc[1,'FASTA']\n",
    "\n",
    "alignments = pairwise2.align.globalxx(seq1, seq2)\n",
    "print(format_alignment(*alignments[0]))"
   ]
  },
  {
   "cell_type": "code",
   "execution_count": 39,
   "metadata": {},
   "outputs": [
    {
     "data": {
      "text/plain": [
       "Seq('GGAAAAACAAAAGCAACAAAAATGAAGGCAATACTAGTAGTTCTGCTATATACA...ATG', IUPACUnambiguousDNA())"
      ]
     },
     "execution_count": 39,
     "metadata": {},
     "output_type": "execute_result"
    }
   ],
   "source": [
    "from Bio.Align.Applications import MuscleCommandline\n",
    "from Bio.Data import CodonTable\n",
    "from Bio.Seq import Seq\n",
    "from Bio.Alphabet import IUPAC\n",
    "\n",
    "my_seq = Seq('GGAAAAACAAAAGCAACAAAAATGAAGGCAATACTAGTAGTTCTGCTATATACATTTACAACCGCAAATG', IUPAC.unambiguous_dna)\n",
    "my_seq\n",
    "\n"
   ]
  },
  {
   "cell_type": "code",
   "execution_count": 40,
   "metadata": {},
   "outputs": [
    {
     "data": {
      "text/plain": [
       "Seq('CCTTTTTGTTTTCGTTGTTTTTACTTCCGTTATGATCATCAAGACGATATATGT...TAC', IUPACUnambiguousDNA())"
      ]
     },
     "execution_count": 40,
     "metadata": {},
     "output_type": "execute_result"
    }
   ],
   "source": [
    "my_seq.complement()"
   ]
  },
  {
   "cell_type": "code",
   "execution_count": 42,
   "metadata": {},
   "outputs": [
    {
     "name": "stderr",
     "output_type": "stream",
     "text": [
      "/Users/adrianaip/anaconda3/lib/python3.7/site-packages/Bio/Seq.py:2576: BiopythonWarning: Partial codon, len(sequence) not a multiple of three. Explicitly trim the sequence or add trailing N before translation. This may become an error in future.\n",
      "  BiopythonWarning)\n"
     ]
    },
    {
     "data": {
      "text/plain": [
       "Seq('GKTKATKMKAILVVLLYTFTTAN', IUPACProtein())"
      ]
     },
     "execution_count": 42,
     "metadata": {},
     "output_type": "execute_result"
    }
   ],
   "source": [
    "my_seq.translate()"
   ]
  },
  {
   "cell_type": "code",
   "execution_count": null,
   "metadata": {},
   "outputs": [],
   "source": [
    "from iab.algorithms import progressive_msa, tree_from_distance_matrix\n",
    "from functools import partial\n",
    "\n",
    "f = 'run1_16s/rev_seqs/1AM1JR7QWMSFA.fastq'\n",
    "seqs = [DNA(e) for e in itertools.islice(skbio.io.read(f, format='fastq', verify=False, variant='illumina1.8'), 10)]\n",
    "seqs = [e for e in seqs if not e.has_degenerates()]\n",
    "msa = progressive_msa(seqs, global_pairwise_align_nucleotide)\n",
    "msa.write('msa10.fna')\n",
    "msa = skbio.alignment.TabularMSA.read('msa10.fna', constructor=DNA)"
   ]
  }
 ],
 "metadata": {
  "kernelspec": {
   "display_name": "Python 3",
   "language": "python",
   "name": "python3"
  },
  "language_info": {
   "codemirror_mode": {
    "name": "ipython",
    "version": 3
   },
   "file_extension": ".py",
   "mimetype": "text/x-python",
   "name": "python",
   "nbconvert_exporter": "python",
   "pygments_lexer": "ipython3",
   "version": "3.7.0"
  }
 },
 "nbformat": 4,
 "nbformat_minor": 2
}
