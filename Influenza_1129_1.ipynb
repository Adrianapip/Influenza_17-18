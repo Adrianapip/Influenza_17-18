{
 "cells": [
  {
   "cell_type": "markdown",
   "metadata": {},
   "source": [
    "\n",
    "\n",
    "# Question 2: What strains and subtypes were most common in the US in 2017-18?\n",
    "\n",
    "Answering questions 2 and 3 will require retrieving records from sequence databases.\n",
    "\n",
    "#### Data source\n",
    "\n",
    "The datasets in this project are from the [Influenza Research Database](https://www.fludb.org/brc/home.spg?decorator=influenza), a viral data repository that pulls from [NCBI GenBank](https://www.ncbi.nlm.nih.gov/genbank/) and [NCBI RefSeq](https://www.ncbi.nlm.nih.gov/refseq/).\n",
    "\n",
    "** Note that this analysis is performed only on the data obtained from the Influenza Research Database. It therefore may not be a complete analysis of the 2017-18 flu season as not all US flu cases may have been reported in this database. \n"
   ]
  },
  {
   "cell_type": "markdown",
   "metadata": {},
   "source": [
    "## Preparing the Influenza DataFrames"
   ]
  },
  {
   "cell_type": "code",
   "execution_count": 2,
   "metadata": {},
   "outputs": [],
   "source": [
    "# Import data analysis libraries \n",
    "import numpy as np\n",
    "import pandas as pd\n",
    "\n",
    "# Import visualization libraries\n",
    "import seaborn as sns\n",
    "sns.set_style('whitegrid')\n",
    "sns.set_context('paper', font_scale=1.)\n",
    "import matplotlib.pyplot as plt\n",
    "%matplotlib inline "
   ]
  },
  {
   "cell_type": "code",
   "execution_count": 3,
   "metadata": {},
   "outputs": [],
   "source": [
    "# Load the flu datasets, read fields by tabs\n",
    "df_fluA = pd.read_csv('flu_A.tsv', sep='\\t')\n",
    "df_fluB = pd.read_csv('flu_B.tsv', sep='\\t')"
   ]
  },
  {
   "cell_type": "code",
   "execution_count": 4,
   "metadata": {},
   "outputs": [
    {
     "data": {
      "text/plain": [
       "Index(['Segment', 'Protein_Name', 'Sequence_Accession', 'Complete_Genome',\n",
       "       'Segment_Length', 'Subtype', 'Collection_Date', 'Host_Species',\n",
       "       'Country', 'State/Province', 'Flu_Season', 'Strain_Name',\n",
       "       'Curation_Report', 'Unnamed:_13'],\n",
       "      dtype='object')"
      ]
     },
     "execution_count": 4,
     "metadata": {},
     "output_type": "execute_result"
    }
   ],
   "source": [
    "# Remove spaces in column names in df_fluA and display column names \n",
    "df_fluA.columns = [c.replace(' ', '_') for c in df_fluA.columns]\n",
    "df_fluB.columns = [c.replace(' ', '_') for c in df_fluB.columns]\n",
    "df_fluA.columns"
   ]
  },
  {
   "cell_type": "markdown",
   "metadata": {},
   "source": [
    "Since there are two flu types (A and B), I prefer to analyze separate datasets for each, rather than merging the two DataFrames. "
   ]
  },
  {
   "cell_type": "code",
   "execution_count": 6,
   "metadata": {},
   "outputs": [
    {
     "data": {
      "text/html": [
       "<div>\n",
       "<style scoped>\n",
       "    .dataframe tbody tr th:only-of-type {\n",
       "        vertical-align: middle;\n",
       "    }\n",
       "\n",
       "    .dataframe tbody tr th {\n",
       "        vertical-align: top;\n",
       "    }\n",
       "\n",
       "    .dataframe thead th {\n",
       "        text-align: right;\n",
       "    }\n",
       "</style>\n",
       "<table border=\"1\" class=\"dataframe\">\n",
       "  <thead>\n",
       "    <tr style=\"text-align: right;\">\n",
       "      <th></th>\n",
       "      <th>Segment</th>\n",
       "      <th>Protein_Name</th>\n",
       "      <th>Sequence_Accession</th>\n",
       "      <th>Complete_Genome</th>\n",
       "      <th>Segment_Length</th>\n",
       "      <th>Subtype</th>\n",
       "      <th>Collection_Date</th>\n",
       "      <th>Host_Species</th>\n",
       "      <th>Country</th>\n",
       "      <th>State/Province</th>\n",
       "      <th>Flu_Season</th>\n",
       "      <th>Strain_Name</th>\n",
       "      <th>Curation_Report</th>\n",
       "      <th>Unnamed:_13</th>\n",
       "    </tr>\n",
       "  </thead>\n",
       "  <tbody>\n",
       "    <tr>\n",
       "      <th>0</th>\n",
       "      <td>6</td>\n",
       "      <td>NaN</td>\n",
       "      <td>MH083303</td>\n",
       "      <td>Yes</td>\n",
       "      <td>1433</td>\n",
       "      <td>H1N1</td>\n",
       "      <td>01/02/2018</td>\n",
       "      <td>IRD:Human</td>\n",
       "      <td>USA</td>\n",
       "      <td>Alabama</td>\n",
       "      <td>17-18</td>\n",
       "      <td>A/Alabama/01/2018</td>\n",
       "      <td>Pass</td>\n",
       "      <td>NaN</td>\n",
       "    </tr>\n",
       "    <tr>\n",
       "      <th>1</th>\n",
       "      <td>4</td>\n",
       "      <td>HA</td>\n",
       "      <td>MH083301</td>\n",
       "      <td>Yes</td>\n",
       "      <td>1752</td>\n",
       "      <td>H1N1</td>\n",
       "      <td>01/02/2018</td>\n",
       "      <td>IRD:Human</td>\n",
       "      <td>USA</td>\n",
       "      <td>Alabama</td>\n",
       "      <td>17-18</td>\n",
       "      <td>A/Alabama/01/2018</td>\n",
       "      <td>Pass</td>\n",
       "      <td>NaN</td>\n",
       "    </tr>\n",
       "    <tr>\n",
       "      <th>2</th>\n",
       "      <td>7</td>\n",
       "      <td>-N/A-,-N/A-</td>\n",
       "      <td>MH083304</td>\n",
       "      <td>Yes</td>\n",
       "      <td>1002</td>\n",
       "      <td>H1N1</td>\n",
       "      <td>01/02/2018</td>\n",
       "      <td>IRD:Human</td>\n",
       "      <td>USA</td>\n",
       "      <td>Alabama</td>\n",
       "      <td>17-18</td>\n",
       "      <td>A/Alabama/01/2018</td>\n",
       "      <td>Pass</td>\n",
       "      <td>NaN</td>\n",
       "    </tr>\n",
       "  </tbody>\n",
       "</table>\n",
       "</div>"
      ],
      "text/plain": [
       "   Segment Protein_Name Sequence_Accession Complete_Genome  Segment_Length  \\\n",
       "0        6          NaN           MH083303             Yes            1433   \n",
       "1        4           HA           MH083301             Yes            1752   \n",
       "2        7  -N/A-,-N/A-           MH083304             Yes            1002   \n",
       "\n",
       "  Subtype Collection_Date Host_Species Country State/Province Flu_Season  \\\n",
       "0    H1N1      01/02/2018    IRD:Human     USA        Alabama      17-18   \n",
       "1    H1N1      01/02/2018    IRD:Human     USA        Alabama      17-18   \n",
       "2    H1N1      01/02/2018    IRD:Human     USA        Alabama      17-18   \n",
       "\n",
       "         Strain_Name Curation_Report  Unnamed:_13  \n",
       "0  A/Alabama/01/2018            Pass          NaN  \n",
       "1  A/Alabama/01/2018            Pass          NaN  \n",
       "2  A/Alabama/01/2018            Pass          NaN  "
      ]
     },
     "execution_count": 6,
     "metadata": {},
     "output_type": "execute_result"
    }
   ],
   "source": [
    "# Let's take a look at the first few rows of data for Flu A\n",
    "df_fluA.head(3)"
   ]
  },
  {
   "cell_type": "code",
   "execution_count": 7,
   "metadata": {},
   "outputs": [
    {
     "data": {
      "text/html": [
       "<div>\n",
       "<style scoped>\n",
       "    .dataframe tbody tr th:only-of-type {\n",
       "        vertical-align: middle;\n",
       "    }\n",
       "\n",
       "    .dataframe tbody tr th {\n",
       "        vertical-align: top;\n",
       "    }\n",
       "\n",
       "    .dataframe thead th {\n",
       "        text-align: right;\n",
       "    }\n",
       "</style>\n",
       "<table border=\"1\" class=\"dataframe\">\n",
       "  <thead>\n",
       "    <tr style=\"text-align: right;\">\n",
       "      <th></th>\n",
       "      <th>Segment</th>\n",
       "      <th>Protein_Name</th>\n",
       "      <th>Sequence_Accession</th>\n",
       "      <th>Complete_Genome</th>\n",
       "      <th>Segment_Length</th>\n",
       "      <th>Subtype</th>\n",
       "      <th>Collection_Date</th>\n",
       "      <th>Host_Species</th>\n",
       "      <th>Country</th>\n",
       "      <th>State/Province</th>\n",
       "      <th>Flu_Season</th>\n",
       "      <th>Strain_Name</th>\n",
       "      <th>Curation_Report</th>\n",
       "      <th>Unnamed:_13</th>\n",
       "    </tr>\n",
       "  </thead>\n",
       "  <tbody>\n",
       "    <tr>\n",
       "      <th>0</th>\n",
       "      <td>2</td>\n",
       "      <td>PB2</td>\n",
       "      <td>MH135882</td>\n",
       "      <td>Yes</td>\n",
       "      <td>2367</td>\n",
       "      <td>-N/A-</td>\n",
       "      <td>01/22/2018</td>\n",
       "      <td>IRD:Human</td>\n",
       "      <td>USA</td>\n",
       "      <td>Alabama</td>\n",
       "      <td>17-18</td>\n",
       "      <td>B/Alabama/02/2018</td>\n",
       "      <td>Pass</td>\n",
       "      <td>NaN</td>\n",
       "    </tr>\n",
       "    <tr>\n",
       "      <th>1</th>\n",
       "      <td>3</td>\n",
       "      <td>PA</td>\n",
       "      <td>MH135884</td>\n",
       "      <td>Yes</td>\n",
       "      <td>2276</td>\n",
       "      <td>-N/A-</td>\n",
       "      <td>01/22/2018</td>\n",
       "      <td>IRD:Human</td>\n",
       "      <td>USA</td>\n",
       "      <td>Alabama</td>\n",
       "      <td>17-18</td>\n",
       "      <td>B/Alabama/02/2018</td>\n",
       "      <td>Pass</td>\n",
       "      <td>NaN</td>\n",
       "    </tr>\n",
       "    <tr>\n",
       "      <th>2</th>\n",
       "      <td>5</td>\n",
       "      <td>NP</td>\n",
       "      <td>MH135886</td>\n",
       "      <td>Yes</td>\n",
       "      <td>1816</td>\n",
       "      <td>-N/A-</td>\n",
       "      <td>01/22/2018</td>\n",
       "      <td>IRD:Human</td>\n",
       "      <td>USA</td>\n",
       "      <td>Alabama</td>\n",
       "      <td>17-18</td>\n",
       "      <td>B/Alabama/02/2018</td>\n",
       "      <td>Pass</td>\n",
       "      <td>NaN</td>\n",
       "    </tr>\n",
       "    <tr>\n",
       "      <th>3</th>\n",
       "      <td>7</td>\n",
       "      <td>-N/A-,-N/A-</td>\n",
       "      <td>MH135888</td>\n",
       "      <td>Yes</td>\n",
       "      <td>1155</td>\n",
       "      <td>-N/A-</td>\n",
       "      <td>01/22/2018</td>\n",
       "      <td>IRD:Human</td>\n",
       "      <td>USA</td>\n",
       "      <td>Alabama</td>\n",
       "      <td>17-18</td>\n",
       "      <td>B/Alabama/02/2018</td>\n",
       "      <td>Pass</td>\n",
       "      <td>NaN</td>\n",
       "    </tr>\n",
       "    <tr>\n",
       "      <th>4</th>\n",
       "      <td>8</td>\n",
       "      <td>-N/A-,-N/A-</td>\n",
       "      <td>MH135889</td>\n",
       "      <td>Yes</td>\n",
       "      <td>1060</td>\n",
       "      <td>-N/A-</td>\n",
       "      <td>01/22/2018</td>\n",
       "      <td>IRD:Human</td>\n",
       "      <td>USA</td>\n",
       "      <td>Alabama</td>\n",
       "      <td>17-18</td>\n",
       "      <td>B/Alabama/02/2018</td>\n",
       "      <td>Pass</td>\n",
       "      <td>NaN</td>\n",
       "    </tr>\n",
       "    <tr>\n",
       "      <th>5</th>\n",
       "      <td>6</td>\n",
       "      <td>-N/A-,-N/A-</td>\n",
       "      <td>MH135887</td>\n",
       "      <td>Yes</td>\n",
       "      <td>1530</td>\n",
       "      <td>-N/A-</td>\n",
       "      <td>01/22/2018</td>\n",
       "      <td>IRD:Human</td>\n",
       "      <td>USA</td>\n",
       "      <td>Alabama</td>\n",
       "      <td>17-18</td>\n",
       "      <td>B/Alabama/02/2018</td>\n",
       "      <td>Pass</td>\n",
       "      <td>NaN</td>\n",
       "    </tr>\n",
       "    <tr>\n",
       "      <th>6</th>\n",
       "      <td>4</td>\n",
       "      <td>HA</td>\n",
       "      <td>MH135885</td>\n",
       "      <td>Yes</td>\n",
       "      <td>1853</td>\n",
       "      <td>-N/A-</td>\n",
       "      <td>01/22/2018</td>\n",
       "      <td>IRD:Human</td>\n",
       "      <td>USA</td>\n",
       "      <td>Alabama</td>\n",
       "      <td>17-18</td>\n",
       "      <td>B/Alabama/02/2018</td>\n",
       "      <td>Pass</td>\n",
       "      <td>NaN</td>\n",
       "    </tr>\n",
       "    <tr>\n",
       "      <th>7</th>\n",
       "      <td>1</td>\n",
       "      <td>PB1</td>\n",
       "      <td>MH135883</td>\n",
       "      <td>Yes</td>\n",
       "      <td>2340</td>\n",
       "      <td>-N/A-</td>\n",
       "      <td>01/22/2018</td>\n",
       "      <td>IRD:Human</td>\n",
       "      <td>USA</td>\n",
       "      <td>Alabama</td>\n",
       "      <td>17-18</td>\n",
       "      <td>B/Alabama/02/2018</td>\n",
       "      <td>Pass</td>\n",
       "      <td>NaN</td>\n",
       "    </tr>\n",
       "    <tr>\n",
       "      <th>8</th>\n",
       "      <td>7</td>\n",
       "      <td>-N/A-,-N/A-</td>\n",
       "      <td>MH135896</td>\n",
       "      <td>Yes</td>\n",
       "      <td>1155</td>\n",
       "      <td>-N/A-</td>\n",
       "      <td>02/06/2018</td>\n",
       "      <td>IRD:Human</td>\n",
       "      <td>USA</td>\n",
       "      <td>Alabama</td>\n",
       "      <td>17-18</td>\n",
       "      <td>B/Alabama/03/2018</td>\n",
       "      <td>Pass</td>\n",
       "      <td>NaN</td>\n",
       "    </tr>\n",
       "    <tr>\n",
       "      <th>9</th>\n",
       "      <td>5</td>\n",
       "      <td>NP</td>\n",
       "      <td>MH135894</td>\n",
       "      <td>Yes</td>\n",
       "      <td>1816</td>\n",
       "      <td>-N/A-</td>\n",
       "      <td>02/06/2018</td>\n",
       "      <td>IRD:Human</td>\n",
       "      <td>USA</td>\n",
       "      <td>Alabama</td>\n",
       "      <td>17-18</td>\n",
       "      <td>B/Alabama/03/2018</td>\n",
       "      <td>Pass</td>\n",
       "      <td>NaN</td>\n",
       "    </tr>\n",
       "  </tbody>\n",
       "</table>\n",
       "</div>"
      ],
      "text/plain": [
       "   Segment Protein_Name Sequence_Accession Complete_Genome  Segment_Length  \\\n",
       "0        2          PB2           MH135882             Yes            2367   \n",
       "1        3           PA           MH135884             Yes            2276   \n",
       "2        5           NP           MH135886             Yes            1816   \n",
       "3        7  -N/A-,-N/A-           MH135888             Yes            1155   \n",
       "4        8  -N/A-,-N/A-           MH135889             Yes            1060   \n",
       "5        6  -N/A-,-N/A-           MH135887             Yes            1530   \n",
       "6        4           HA           MH135885             Yes            1853   \n",
       "7        1          PB1           MH135883             Yes            2340   \n",
       "8        7  -N/A-,-N/A-           MH135896             Yes            1155   \n",
       "9        5           NP           MH135894             Yes            1816   \n",
       "\n",
       "  Subtype Collection_Date Host_Species Country State/Province Flu_Season  \\\n",
       "0   -N/A-      01/22/2018    IRD:Human     USA        Alabama      17-18   \n",
       "1   -N/A-      01/22/2018    IRD:Human     USA        Alabama      17-18   \n",
       "2   -N/A-      01/22/2018    IRD:Human     USA        Alabama      17-18   \n",
       "3   -N/A-      01/22/2018    IRD:Human     USA        Alabama      17-18   \n",
       "4   -N/A-      01/22/2018    IRD:Human     USA        Alabama      17-18   \n",
       "5   -N/A-      01/22/2018    IRD:Human     USA        Alabama      17-18   \n",
       "6   -N/A-      01/22/2018    IRD:Human     USA        Alabama      17-18   \n",
       "7   -N/A-      01/22/2018    IRD:Human     USA        Alabama      17-18   \n",
       "8   -N/A-      02/06/2018    IRD:Human     USA        Alabama      17-18   \n",
       "9   -N/A-      02/06/2018    IRD:Human     USA        Alabama      17-18   \n",
       "\n",
       "         Strain_Name Curation_Report  Unnamed:_13  \n",
       "0  B/Alabama/02/2018            Pass          NaN  \n",
       "1  B/Alabama/02/2018            Pass          NaN  \n",
       "2  B/Alabama/02/2018            Pass          NaN  \n",
       "3  B/Alabama/02/2018            Pass          NaN  \n",
       "4  B/Alabama/02/2018            Pass          NaN  \n",
       "5  B/Alabama/02/2018            Pass          NaN  \n",
       "6  B/Alabama/02/2018            Pass          NaN  \n",
       "7  B/Alabama/02/2018            Pass          NaN  \n",
       "8  B/Alabama/03/2018            Pass          NaN  \n",
       "9  B/Alabama/03/2018            Pass          NaN  "
      ]
     },
     "execution_count": 7,
     "metadata": {},
     "output_type": "execute_result"
    }
   ],
   "source": [
    "# And here is the first few rows for Flu B\n",
    "df_fluB.head(10)"
   ]
  },
  {
   "cell_type": "markdown",
   "metadata": {},
   "source": [
    "---\n",
    "\n",
    "## Exploring the Data\n",
    "\n",
    "Now that the data has been properly extracted and converted into dataframes, let's take a closer look at the data."
   ]
  },
  {
   "cell_type": "code",
   "execution_count": 8,
   "metadata": {},
   "outputs": [
    {
     "name": "stdout",
     "output_type": "stream",
     "text": [
      "<class 'pandas.core.frame.DataFrame'>\n",
      "RangeIndex: 24407 entries, 0 to 24406\n",
      "Data columns (total 14 columns):\n",
      "Segment               24407 non-null int64\n",
      "Protein_Name          21351 non-null object\n",
      "Sequence_Accession    24407 non-null object\n",
      "Complete_Genome       24407 non-null object\n",
      "Segment_Length        24407 non-null int64\n",
      "Subtype               24407 non-null object\n",
      "Collection_Date       24407 non-null object\n",
      "Host_Species          24407 non-null object\n",
      "Country               24407 non-null object\n",
      "State/Province        24407 non-null object\n",
      "Flu_Season            24407 non-null object\n",
      "Strain_Name           24407 non-null object\n",
      "Curation_Report       24407 non-null object\n",
      "Unnamed:_13           0 non-null float64\n",
      "dtypes: float64(1), int64(2), object(11)\n",
      "memory usage: 2.6+ MB\n"
     ]
    }
   ],
   "source": [
    "df_fluA.info()"
   ]
  },
  {
   "cell_type": "markdown",
   "metadata": {},
   "source": [
    "Approximately 24K records, however, there are multiple Host Species: "
   ]
  },
  {
   "cell_type": "code",
   "execution_count": 9,
   "metadata": {},
   "outputs": [
    {
     "data": {
      "text/plain": [
       "array(['IRD:Human', 'IRD:Dog', 'IRD:Ruddy Turnstone/Avian', 'IRD:Swine'],\n",
       "      dtype=object)"
      ]
     },
     "execution_count": 9,
     "metadata": {},
     "output_type": "execute_result"
    }
   ],
   "source": [
    "df_fluA['Host_Species'].unique()"
   ]
  },
  {
   "cell_type": "markdown",
   "metadata": {},
   "source": [
    "I want to look at sequences isolated only from Humans. \n",
    "\n",
    "Let's make new dataframes called:\n",
    "\n",
    "df_fluA_Human and df_fluB_Human\n"
   ]
  },
  {
   "cell_type": "code",
   "execution_count": 10,
   "metadata": {},
   "outputs": [
    {
     "name": "stdout",
     "output_type": "stream",
     "text": [
      "<class 'pandas.core.frame.DataFrame'>\n",
      "Int64Index: 23375 entries, 0 to 24406\n",
      "Data columns (total 14 columns):\n",
      "Segment               23375 non-null int64\n",
      "Protein_Name          20448 non-null object\n",
      "Sequence_Accession    23375 non-null object\n",
      "Complete_Genome       23375 non-null object\n",
      "Segment_Length        23375 non-null int64\n",
      "Subtype               23375 non-null object\n",
      "Collection_Date       23375 non-null object\n",
      "Host_Species          23375 non-null object\n",
      "Country               23375 non-null object\n",
      "State/Province        23375 non-null object\n",
      "Flu_Season            23375 non-null object\n",
      "Strain_Name           23375 non-null object\n",
      "Curation_Report       23375 non-null object\n",
      "Unnamed:_13           0 non-null float64\n",
      "dtypes: float64(1), int64(2), object(11)\n",
      "memory usage: 2.7+ MB\n"
     ]
    }
   ],
   "source": [
    "df_fluA_Human = df_fluA[df_fluA['Host_Species'] == 'IRD:Human' ]\n",
    "df_fluB_Human = df_fluB[df_fluB['Host_Species'] == 'IRD:Human']\n",
    "df_fluA_Human.info()"
   ]
  },
  {
   "cell_type": "markdown",
   "metadata": {},
   "source": [
    "Now that we have flu that has been sequenced from Humans, let's take a look at:\n",
    "\n",
    "##### General Info\n",
    "* How many records: 'n_records' \n",
    "* What were the top 5 states reporting: 'top5_states'\n",
    "* What states had the least reporting: 'bottom5_states'\n",
    "\n",
    "##### Subtype Details\n",
    "* How many unique subtypes are there: 'n_uni_subtypes'\n",
    "* What are those subtypes: 'uni_subtypes'\n"
   ]
  },
  {
   "cell_type": "code",
   "execution_count": 11,
   "metadata": {
    "scrolled": true
   },
   "outputs": [
    {
     "name": "stdout",
     "output_type": "stream",
     "text": [
      "\u001b[1mGeneral Info\u001b[0m\n",
      "Total number of flu A records: 23375\n",
      "Top 5 states reporting Flu A:\n",
      "California    2228\n",
      "Florida       1035\n",
      "Iowa           928\n",
      "Texas          808\n",
      "Illinois       743\n",
      "Name: State/Province, dtype: int64\n",
      "\n",
      "Bottom 5 states reporting Flu A:\n",
      "Nevada            205\n",
      "Vermont           168\n",
      "Nebraska          160\n",
      "South Carolina    120\n",
      "Rhode Island       72\n",
      "Name: State/Province, dtype: int64\n",
      "\n",
      "\u001b[1mSubtype Details\u001b[0m\n",
      "Number of unique subtypes reported: 2\n",
      "Those subtypes are: ['H1N1' 'H3N2']\n"
     ]
    }
   ],
   "source": [
    "n_records = len(df_fluA_Human)\n",
    "top5_states = df_fluA_Human['State/Province'].value_counts().head(5)\n",
    "bottom5_states = df_fluA_Human['State/Province'].value_counts().tail(5)\n",
    "n_uni_subtypes = df_fluA_Human['Subtype'].nunique()\n",
    "uni_subtypes = df_fluA_Human['Subtype'].unique()\n",
    "\n",
    "print(\"\\033[1m\" + \"General Info\" + \"\\033[0m\")\n",
    "print(\"Total number of flu A records: {}\".format(n_records))\n",
    "print(\"Top 5 states reporting Flu A:\\n{}\\n\".format(top5_states))\n",
    "print(\"Bottom 5 states reporting Flu A:\\n{}\\n\".format(bottom5_states))\n",
    "print(\"\\033[1m\" + \"Subtype Details\" + \"\\033[0m\")\n",
    "print(\"Number of unique subtypes reported: {}\".format(n_uni_subtypes))\n",
    "print(\"Those subtypes are: {}\".format(uni_subtypes))"
   ]
  },
  {
   "cell_type": "markdown",
   "metadata": {},
   "source": [
    "For Flu A, there are only two subtypes: H1N1 and H3N2. Let's plot out when these entries were submitted ('Collection_Date) to get a look at the 2017-18 flu season by month."
   ]
  },
  {
   "cell_type": "code",
   "execution_count": 12,
   "metadata": {},
   "outputs": [
    {
     "data": {
      "text/plain": [
       "str"
      ]
     },
     "execution_count": 12,
     "metadata": {},
     "output_type": "execute_result"
    }
   ],
   "source": [
    "# Let's check the type of the Collection_Date column\n",
    "\n",
    "type(df_fluA_Human.loc[:,'Collection_Date'].iloc[0])"
   ]
  },
  {
   "cell_type": "code",
   "execution_count": 13,
   "metadata": {},
   "outputs": [],
   "source": [
    "# since the Collection_Date is a string, convert the column to datetime objects \n",
    "\n",
    "df_fluA_Human = df_fluA_Human.copy()  \n",
    "df_fluA_Human['Collection_Date'] = pd.to_datetime(df_fluA_Human['Collection_Date'])"
   ]
  },
  {
   "cell_type": "code",
   "execution_count": 14,
   "metadata": {},
   "outputs": [
    {
     "data": {
      "text/plain": [
       "pandas._libs.tslibs.timestamps.Timestamp"
      ]
     },
     "execution_count": 14,
     "metadata": {},
     "output_type": "execute_result"
    }
   ],
   "source": [
    "# check the conversion\n",
    "type(df_fluA_Human['Collection_Date'].iloc[0])"
   ]
  },
  {
   "cell_type": "code",
   "execution_count": 15,
   "metadata": {},
   "outputs": [],
   "source": [
    "# Now create a new column for just the month of each record. This will be the x-axis of my graph\n",
    "\n",
    "df_fluA_Human['Month'] = df_fluA_Human['Collection_Date'].apply(lambda time: time.month)"
   ]
  },
  {
   "cell_type": "code",
   "execution_count": 16,
   "metadata": {},
   "outputs": [
    {
     "data": {
      "text/plain": [
       "Index(['Segment', 'Protein_Name', 'Sequence_Accession', 'Complete_Genome',\n",
       "       'Segment_Length', 'Subtype', 'Collection_Date', 'Host_Species',\n",
       "       'Country', 'State/Province', 'Flu_Season', 'Strain_Name',\n",
       "       'Curation_Report', 'Unnamed:_13', 'Month'],\n",
       "      dtype='object')"
      ]
     },
     "execution_count": 16,
     "metadata": {},
     "output_type": "execute_result"
    }
   ],
   "source": [
    "# There it is, the last column\n",
    "\n",
    "df_fluA_Human.columns"
   ]
  },
  {
   "cell_type": "code",
   "execution_count": 17,
   "metadata": {},
   "outputs": [
    {
     "data": {
      "text/plain": [
       "19209     2\n",
       "22398     1\n",
       "13899    11\n",
       "14617    11\n",
       "241       2\n",
       "Name: Month, dtype: int64"
      ]
     },
     "execution_count": 17,
     "metadata": {},
     "output_type": "execute_result"
    }
   ],
   "source": [
    "# Look at the data in the Month column from a random sample\n",
    "\n",
    "df_fluA_Human['Month'].sample(5)"
   ]
  },
  {
   "cell_type": "code",
   "execution_count": 18,
   "metadata": {},
   "outputs": [],
   "source": [
    "# Looks like the month is an int, but I'd like it to read month names\n",
    "import calendar\n",
    "\n",
    "df_fluA_Human['Month'] = df_fluA_Human['Month'].apply(lambda x: calendar.month_abbr[x])"
   ]
  },
  {
   "cell_type": "code",
   "execution_count": 19,
   "metadata": {},
   "outputs": [
    {
     "data": {
      "text/plain": [
       "1560     Nov\n",
       "2405     Oct\n",
       "21841    Mar\n",
       "16208    Apr\n",
       "16921    Jan\n",
       "Name: Month, dtype: object"
      ]
     },
     "execution_count": 19,
     "metadata": {},
     "output_type": "execute_result"
    }
   ],
   "source": [
    "df_fluA_Human['Month'].sample(5)"
   ]
  },
  {
   "cell_type": "code",
   "execution_count": 20,
   "metadata": {},
   "outputs": [
    {
     "data": {
      "text/plain": [
       "<matplotlib.legend.Legend at 0x1a1b12feb8>"
      ]
     },
     "execution_count": 20,
     "metadata": {},
     "output_type": "execute_result"
    },
    {
     "data": {
      "image/png": "[encoded data removed]",
      "text/plain": [
       "<Figure size 432x288 with 1 Axes>"
      ]
     },
     "metadata": {
      "needs_background": "light"
     },
     "output_type": "display_data"
    }
   ],
   "source": [
    "# Plots the records by month, starting with the beginning of the flu season in Oct 2017\n",
    "\n",
    "order = ['Oct', 'Nov', 'Dec','Jan', 'Feb', 'Mar', 'Apr', 'May', 'Jun', 'Jul', 'Aug', 'Sep']\n",
    "\n",
    "sns.countplot(x='Month', data=df_fluA_Human, hue='Subtype', order = order, palette='rainbow').set_title('Reported Flu A Subtypes in US during 2017-18')\n",
    "\n",
    "# relocate the legend\n",
    "plt.legend(bbox_to_anchor = (1.05, 1), loc =2, borderaxespad=0.)"
   ]
  },
  {
   "cell_type": "markdown",
   "metadata": {},
   "source": [
    "### Partial answer to Question 2: For Flu A, the only reported subtypes are H1N1 and H3N2 with H3N2 being reported at higher rates. There is a peak of cases in Dec 2017 for H3N2 and Jan 2018 for H1N1.\n",
    "\n",
    "As for the strains, there are a bunch reported:\n"
   ]
  },
  {
   "cell_type": "code",
   "execution_count": 21,
   "metadata": {},
   "outputs": [
    {
     "data": {
      "text/plain": [
       "2333"
      ]
     },
     "execution_count": 21,
     "metadata": {},
     "output_type": "execute_result"
    }
   ],
   "source": [
    "df_fluA_Human[\"Strain_Name\"].nunique()"
   ]
  },
  {
   "cell_type": "markdown",
   "metadata": {},
   "source": [
    "Because there are so many strains, a figure won't work, but we can list them to get an idea the most common. This may prove useful later when we need to look at exact sequences."
   ]
  },
  {
   "cell_type": "code",
   "execution_count": 22,
   "metadata": {},
   "outputs": [
    {
     "name": "stdout",
     "output_type": "stream",
     "text": [
      "\u001b[1mMost Common Strains per Subtype\u001b[0m\n",
      "H1N1 strains:\n",
      "A/New Jersey/13/2018       32\n",
      "A/Mississippi/35/2017      24\n",
      "A/Mississippi/33/2017      24\n",
      "A/Pennsylvania/276/2017    24\n",
      "A/New York/34/2017         24\n",
      "A/Oklahoma/32/2017         24\n",
      "A/California/123/2017      24\n",
      "A/Connecticut/31/2017      24\n",
      "A/Iowa/34/2017             24\n",
      "A/Illinois/37/2018         24\n",
      "Name: Strain_Name, dtype: int64\n",
      "\n",
      "H3N2 strains:\n",
      "A/Kansas/14/2017         39\n",
      "A/Wisconsin/04/2018      32\n",
      "A/Connecticut/38/2017    24\n",
      "A/Utah/34/2017           24\n",
      "A/Nevada/20/2017         24\n",
      "A/Florida/103/2017       24\n",
      "A/Colorado/18/2017       24\n",
      "A/Montana/27/2017        24\n",
      "A/Connecticut/32/2017    24\n",
      "A/Montana/31/2017        24\n",
      "Name: Strain_Name, dtype: int64\n",
      "\n"
     ]
    }
   ],
   "source": [
    "df_H1N1_strains = df_fluA_Human[df_fluA_Human[\"Subtype\"] == \"H1N1\"]\n",
    "H1N1_strains = df_H1N1_strains['Strain_Name'].value_counts().head(10)\n",
    "df_H3N2_strains = df_fluA_Human[df_fluA_Human[\"Subtype\"] == \"H3N2\"]\n",
    "H3N2_strains = df_H3N2_strains['Strain_Name'].value_counts().head(10)\n",
    "\n",
    "print(\"\\033[1m\" + \"Most Common Strains per Subtype\" + \"\\033[0m\")\n",
    "print(\"H1N1 strains:\\n{}\\n\".format(H1N1_strains))\n",
    "print(\"H3N2 strains:\\n{}\\n\".format(H3N2_strains))\n"
   ]
  },
  {
   "cell_type": "markdown",
   "metadata": {},
   "source": [
    "Now, lets perform the same analysis for Influenza Type B."
   ]
  },
  {
   "cell_type": "code",
   "execution_count": 23,
   "metadata": {},
   "outputs": [
    {
     "name": "stdout",
     "output_type": "stream",
     "text": [
      "<class 'pandas.core.frame.DataFrame'>\n",
      "Int64Index: 11281 entries, 0 to 11280\n",
      "Data columns (total 14 columns):\n",
      "Segment               11281 non-null int64\n",
      "Protein_Name          11281 non-null object\n",
      "Sequence_Accession    11281 non-null object\n",
      "Complete_Genome       11281 non-null object\n",
      "Segment_Length        11281 non-null int64\n",
      "Subtype               11281 non-null object\n",
      "Collection_Date       11281 non-null object\n",
      "Host_Species          11281 non-null object\n",
      "Country               11281 non-null object\n",
      "State/Province        11281 non-null object\n",
      "Flu_Season            11281 non-null object\n",
      "Strain_Name           11281 non-null object\n",
      "Curation_Report       11281 non-null object\n",
      "Unnamed:_13           0 non-null float64\n",
      "dtypes: float64(1), int64(2), object(11)\n",
      "memory usage: 1.3+ MB\n"
     ]
    }
   ],
   "source": [
    "df_fluB_Human.info()"
   ]
  },
  {
   "cell_type": "code",
   "execution_count": 24,
   "metadata": {},
   "outputs": [
    {
     "name": "stdout",
     "output_type": "stream",
     "text": [
      "\u001b[1mGeneral Info\u001b[0m\n",
      "Total number of flu B records: 11281\n",
      "Top 5 states reporting Flu B:\n",
      "California    1096\n",
      "Montana        408\n",
      "Florida        398\n",
      "Arizona        358\n",
      "Wisconsin      339\n",
      "Name: State/Province, dtype: int64\n",
      "\n",
      "Bottom 5 states reporting Flu B:\n",
      "District of Columbia    80\n",
      "South Carolina          80\n",
      "Kansas                  72\n",
      "Rhode Island            48\n",
      "Nevada                  24\n",
      "Name: State/Province, dtype: int64\n",
      "\n",
      "\u001b[1mSubtype Details\u001b[0m\n",
      "Number of unique subtypes reported: 1\n",
      "Those subtypes are: ['-N/A-']\n"
     ]
    }
   ],
   "source": [
    "n_records = len(df_fluB_Human)\n",
    "top5_states = df_fluB_Human['State/Province'].value_counts().head(5)\n",
    "bottom5_states = df_fluB_Human['State/Province'].value_counts().tail(5)\n",
    "n_uni_subtypes = df_fluB_Human['Subtype'].nunique()\n",
    "uni_subtypes = df_fluB_Human['Subtype'].unique()\n",
    "\n",
    "print(\"\\033[1m\" + \"General Info\" + \"\\033[0m\")\n",
    "print(\"Total number of flu B records: {}\".format(n_records))\n",
    "print(\"Top 5 states reporting Flu B:\\n{}\\n\".format(top5_states))\n",
    "print(\"Bottom 5 states reporting Flu B:\\n{}\\n\".format(bottom5_states))\n",
    "print(\"\\033[1m\" + \"Subtype Details\" + \"\\033[0m\")\n",
    "print(\"Number of unique subtypes reported: {}\".format(n_uni_subtypes))\n",
    "print(\"Those subtypes are: {}\".format(uni_subtypes))"
   ]
  },
  {
   "cell_type": "markdown",
   "metadata": {},
   "source": [
    "Note that there is only one subtype reported, which is unnamed. We can still take a look at the montly reporting dates and most common strains."
   ]
  },
  {
   "cell_type": "code",
   "execution_count": 25,
   "metadata": {},
   "outputs": [],
   "source": [
    "df_fluB_Human = df_fluB_Human.replace(to_replace=\"-N/A-\", value=\"FluB_Sub_ukwn\")"
   ]
  },
  {
   "cell_type": "code",
   "execution_count": 26,
   "metadata": {},
   "outputs": [],
   "source": [
    "df_fluB_Human = df_fluB_Human.copy()  \n",
    "df_fluB_Human['Collection_Date'] = pd.to_datetime(df_fluB_Human['Collection_Date'])"
   ]
  },
  {
   "cell_type": "code",
   "execution_count": 27,
   "metadata": {
    "code_folding": [
     0
    ]
   },
   "outputs": [
    {
     "data": {
      "text/plain": [
       "pandas._libs.tslibs.timestamps.Timestamp"
      ]
     },
     "execution_count": 27,
     "metadata": {},
     "output_type": "execute_result"
    }
   ],
   "source": [
    "# check the conversion\n",
    "type(df_fluB_Human['Collection_Date'].iloc[0])"
   ]
  },
  {
   "cell_type": "code",
   "execution_count": 28,
   "metadata": {
    "code_folding": [
     0
    ]
   },
   "outputs": [],
   "source": [
    "# Create a new column for just the month of each record. This will be the x-axis of my graph\n",
    "\n",
    "df_fluB_Human['Month'] = df_fluB_Human['Collection_Date'].apply(lambda time: time.month)"
   ]
  },
  {
   "cell_type": "code",
   "execution_count": 29,
   "metadata": {
    "code_folding": [
     0
    ]
   },
   "outputs": [],
   "source": [
    "# Looks like the month is an int, but I'd like it to read month names\n",
    "import calendar\n",
    "\n",
    "df_fluB_Human['Month'] = df_fluB_Human['Month'].apply(lambda x: calendar.month_abbr[x])"
   ]
  },
  {
   "cell_type": "code",
   "execution_count": 30,
   "metadata": {
    "code_folding": []
   },
   "outputs": [
    {
     "data": {
      "text/plain": [
       "<matplotlib.legend.Legend at 0x1a1c9b6080>"
      ]
     },
     "execution_count": 30,
     "metadata": {},
     "output_type": "execute_result"
    },
    {
     "data": {
      "image/png": "[encoded data removed]",
      "text/plain": [
       "<Figure size 432x288 with 1 Axes>"
      ]
     },
     "metadata": {
      "needs_background": "light"
     },
     "output_type": "display_data"
    }
   ],
   "source": [
    "#Plots the records by month, starting with the beginning of the flu season in Oct 2017\n",
    "\n",
    "order = ['Oct', 'Nov', 'Dec','Jan', 'Feb', 'Mar', 'Apr', 'May', 'Jun', 'Jul', 'Aug', 'Sep']\n",
    "\n",
    "sns.countplot(x='Month', data=df_fluB_Human, hue='Subtype', order = order, palette='rainbow').set_title('Reported Flu B Subtypes in US during 2017-18')\n",
    "\n",
    "# relocate the legend\n",
    "plt.legend(bbox_to_anchor = (1.05, 1), loc =2, borderaxespad=0.)"
   ]
  },
  {
   "cell_type": "markdown",
   "metadata": {},
   "source": [
    "Here's a look at just Flu B for the season. Although interesting to see how it compares to Flu A, it'd be nicer if we could get a look at Flu A and B together in one figure. Let's do that now."
   ]
  },
  {
   "cell_type": "code",
   "execution_count": 31,
   "metadata": {},
   "outputs": [],
   "source": [
    "df_AllFlu = pd.merge(df_fluA_Human, df_fluB_Human, how='outer')"
   ]
  },
  {
   "cell_type": "code",
   "execution_count": 32,
   "metadata": {
    "code_folding": []
   },
   "outputs": [
    {
     "data": {
      "image/png": "[encoded data removed]",
      "text/plain": [
       "<Figure size 432x288 with 1 Axes>"
      ]
     },
     "metadata": {
      "needs_background": "light"
     },
     "output_type": "display_data"
    }
   ],
   "source": [
    "#Plotting out all three subtypes\n",
    "order = ['Oct', 'Nov', 'Dec','Jan', 'Feb', 'Mar', 'Apr', 'May', 'Jun', 'Jul', 'Aug', 'Sep']\n",
    "\n",
    "sns.countplot(x='Month', data=df_AllFlu, hue='Subtype', order = order, palette='rainbow').set_title('Reported Flu Subtypes in US during 2017-18')\n",
    "\n",
    "# relocate the legend\n",
    "plt.legend(bbox_to_anchor = (0.7, 1), loc =2, borderaxespad=0.)\n",
    "\n",
    "plt.savefig('Flu_allsubtypes.png')"
   ]
  },
  {
   "cell_type": "markdown",
   "metadata": {},
   "source": [
    "### Here is a cumulative look at all three subtypes: Flu A H1N1, Flu A H3N2, and Flu B 'N/A'. What's interesting is how Flu B persists during the end while Flu A is slowly waning out for the season.\n",
    "\n",
    "Although these figures answer Question 2, it'd be fun to take it one step further and look at these data using a map."
   ]
  },
  {
   "cell_type": "markdown",
   "metadata": {},
   "source": [
    "First thing we have to do is convert the state names to abbreviations so they read into the map correctly.\n",
    "\n",
    "Here's a dictionary of state names to abbreviations thanks to [rogerallen](https://gist.github.com/rogerallen/1583593)\n"
   ]
  },
  {
   "cell_type": "code",
   "execution_count": 33,
   "metadata": {
    "code_folding": [
     0
    ]
   },
   "outputs": [],
   "source": [
    "us_state_abbrev = {\n",
    "    'Alabama': 'AL',\n",
    "    'Alaska': 'AK',\n",
    "    'Arizona': 'AZ',\n",
    "    'Arkansas': 'AR',\n",
    "    'California': 'CA',\n",
    "    'Colorado': 'CO',\n",
    "    'Connecticut': 'CT',\n",
    "    'Delaware': 'DE',\n",
    "    'Florida': 'FL',\n",
    "    'Georgia': 'GA',\n",
    "    'Hawaii': 'HI',\n",
    "    'Idaho': 'ID',\n",
    "    'Illinois': 'IL',\n",
    "    'Indiana': 'IN',\n",
    "    'Iowa': 'IA',\n",
    "    'Kansas': 'KS',\n",
    "    'Kentucky': 'KY',\n",
    "    'Louisiana': 'LA',\n",
    "    'Maine': 'ME',\n",
    "    'Maryland': 'MD',\n",
    "    'Massachusetts': 'MA',\n",
    "    'Michigan': 'MI',\n",
    "    'Minnesota': 'MN',\n",
    "    'Mississippi': 'MS',\n",
    "    'Missouri': 'MO',\n",
    "    'Montana': 'MT',\n",
    "    'Nebraska': 'NE',\n",
    "    'Nevada': 'NV',\n",
    "    'New Hampshire': 'NH',\n",
    "    'New Jersey': 'NJ',\n",
    "    'New Mexico': 'NM',\n",
    "    'New York': 'NY',\n",
    "    'North Carolina': 'NC',\n",
    "    'North Dakota': 'ND',\n",
    "    'Ohio': 'OH',\n",
    "    'Oklahoma': 'OK',\n",
    "    'Oregon': 'OR',\n",
    "    'Pennsylvania': 'PA',\n",
    "    'Rhode Island': 'RI',\n",
    "    'South Carolina': 'SC',\n",
    "    'South Dakota': 'SD',\n",
    "    'Tennessee': 'TN',\n",
    "    'Texas': 'TX',\n",
    "    'Utah': 'UT',\n",
    "    'Vermont': 'VT',\n",
    "    'Virginia': 'VA',\n",
    "    'Washington': 'WA',\n",
    "    'West Virginia': 'WV',\n",
    "    'Wisconsin': 'WI',\n",
    "    'Wyoming': 'WY',\n",
    "}"
   ]
  },
  {
   "cell_type": "code",
   "execution_count": 34,
   "metadata": {},
   "outputs": [],
   "source": [
    "# Now lets look at a map of collections per state, by subtype. First we have the sum the number of records by state.\n",
    "# Should create a new dataframe with aggregate data by state. Want total number records, total number per subtype. Is this a pivot table?\n",
    "\n",
    "\n",
    "df_byState = df_fluA_Human.groupby(by=['State/Province', 'Subtype']).size().reset_index(name='counts')\n",
    "\n"
   ]
  },
  {
   "cell_type": "code",
   "execution_count": 35,
   "metadata": {},
   "outputs": [
    {
     "data": {
      "text/html": [
       "<div>\n",
       "<style scoped>\n",
       "    .dataframe tbody tr th:only-of-type {\n",
       "        vertical-align: middle;\n",
       "    }\n",
       "\n",
       "    .dataframe tbody tr th {\n",
       "        vertical-align: top;\n",
       "    }\n",
       "\n",
       "    .dataframe thead th {\n",
       "        text-align: right;\n",
       "    }\n",
       "</style>\n",
       "<table border=\"1\" class=\"dataframe\">\n",
       "  <thead>\n",
       "    <tr style=\"text-align: right;\">\n",
       "      <th></th>\n",
       "      <th>State/Province</th>\n",
       "      <th>Subtype</th>\n",
       "      <th>counts</th>\n",
       "      <th>abbrev</th>\n",
       "    </tr>\n",
       "  </thead>\n",
       "  <tbody>\n",
       "    <tr>\n",
       "      <th>0</th>\n",
       "      <td>Alabama</td>\n",
       "      <td>H1N1</td>\n",
       "      <td>232</td>\n",
       "      <td>NaN</td>\n",
       "    </tr>\n",
       "    <tr>\n",
       "      <th>1</th>\n",
       "      <td>Alabama</td>\n",
       "      <td>H3N2</td>\n",
       "      <td>207</td>\n",
       "      <td>NaN</td>\n",
       "    </tr>\n",
       "    <tr>\n",
       "      <th>2</th>\n",
       "      <td>Alaska</td>\n",
       "      <td>H1N1</td>\n",
       "      <td>208</td>\n",
       "      <td>NaN</td>\n",
       "    </tr>\n",
       "    <tr>\n",
       "      <th>3</th>\n",
       "      <td>Alaska</td>\n",
       "      <td>H3N2</td>\n",
       "      <td>462</td>\n",
       "      <td>NaN</td>\n",
       "    </tr>\n",
       "    <tr>\n",
       "      <th>4</th>\n",
       "      <td>Arizona</td>\n",
       "      <td>H1N1</td>\n",
       "      <td>216</td>\n",
       "      <td>NaN</td>\n",
       "    </tr>\n",
       "  </tbody>\n",
       "</table>\n",
       "</div>"
      ],
      "text/plain": [
       "  State/Province Subtype  counts abbrev\n",
       "0        Alabama    H1N1     232    NaN\n",
       "1        Alabama    H3N2     207    NaN\n",
       "2         Alaska    H1N1     208    NaN\n",
       "3         Alaska    H3N2     462    NaN\n",
       "4        Arizona    H1N1     216    NaN"
      ]
     },
     "execution_count": 35,
     "metadata": {},
     "output_type": "execute_result"
    }
   ],
   "source": [
    "us_state_abbrev = {state: abbrev for abbrev, state in us_state_abbrev.items()}\n",
    "\n",
    "df_byState['abbrev'] = df_byState['State/Province'].map(us_state_abbrev)\n",
    "df_byState.head(5)"
   ]
  },
  {
   "cell_type": "markdown",
   "metadata": {},
   "source": [
    "Now going to plot it out on map"
   ]
  },
  {
   "cell_type": "code",
   "execution_count": 36,
   "metadata": {},
   "outputs": [
    {
     "data": {
      "text/html": [
       "<script>requirejs.config({paths: { 'plotly': ['https://cdn.plot.ly/plotly-latest.min']},});if(!window.Plotly) {{require(['plotly'],function(plotly) {window.Plotly=plotly;});}}</script>"
      ],
      "text/vnd.plotly.v1+html": [
       "<script>requirejs.config({paths: { 'plotly': ['https://cdn.plot.ly/plotly-latest.min']},});if(!window.Plotly) {{require(['plotly'],function(plotly) {window.Plotly=plotly;});}}</script>"
      ]
     },
     "metadata": {},
     "output_type": "display_data"
    }
   ],
   "source": [
    "# install plotly and allow us to view inside the notebook\n",
    "\n",
    "import plotly.graph_objs as go \n",
    "from plotly.offline import init_notebook_mode,iplot,plot\n",
    "init_notebook_mode(connected=True) "
   ]
  },
  {
   "cell_type": "code",
   "execution_count": 37,
   "metadata": {},
   "outputs": [
    {
     "data": {
      "text/html": [
       "<div>\n",
       "<style scoped>\n",
       "    .dataframe tbody tr th:only-of-type {\n",
       "        vertical-align: middle;\n",
       "    }\n",
       "\n",
       "    .dataframe tbody tr th {\n",
       "        vertical-align: top;\n",
       "    }\n",
       "\n",
       "    .dataframe thead th {\n",
       "        text-align: right;\n",
       "    }\n",
       "</style>\n",
       "<table border=\"1\" class=\"dataframe\">\n",
       "  <thead>\n",
       "    <tr style=\"text-align: right;\">\n",
       "      <th></th>\n",
       "      <th>State/Province</th>\n",
       "      <th>Subtype</th>\n",
       "      <th>counts</th>\n",
       "      <th>abbrev</th>\n",
       "    </tr>\n",
       "  </thead>\n",
       "  <tbody>\n",
       "    <tr>\n",
       "      <th>0</th>\n",
       "      <td>Alabama</td>\n",
       "      <td>H1N1</td>\n",
       "      <td>232</td>\n",
       "      <td>NaN</td>\n",
       "    </tr>\n",
       "    <tr>\n",
       "      <th>2</th>\n",
       "      <td>Alaska</td>\n",
       "      <td>H1N1</td>\n",
       "      <td>208</td>\n",
       "      <td>NaN</td>\n",
       "    </tr>\n",
       "    <tr>\n",
       "      <th>4</th>\n",
       "      <td>Arizona</td>\n",
       "      <td>H1N1</td>\n",
       "      <td>216</td>\n",
       "      <td>NaN</td>\n",
       "    </tr>\n",
       "    <tr>\n",
       "      <th>6</th>\n",
       "      <td>Arkansas</td>\n",
       "      <td>H1N1</td>\n",
       "      <td>80</td>\n",
       "      <td>NaN</td>\n",
       "    </tr>\n",
       "    <tr>\n",
       "      <th>8</th>\n",
       "      <td>California</td>\n",
       "      <td>H1N1</td>\n",
       "      <td>607</td>\n",
       "      <td>NaN</td>\n",
       "    </tr>\n",
       "  </tbody>\n",
       "</table>\n",
       "</div>"
      ],
      "text/plain": [
       "  State/Province Subtype  counts abbrev\n",
       "0        Alabama    H1N1     232    NaN\n",
       "2         Alaska    H1N1     208    NaN\n",
       "4        Arizona    H1N1     216    NaN\n",
       "6       Arkansas    H1N1      80    NaN\n",
       "8     California    H1N1     607    NaN"
      ]
     },
     "execution_count": 37,
     "metadata": {},
     "output_type": "execute_result"
    }
   ],
   "source": [
    "#Let's do H1N1 cases first.\n",
    "\n",
    "#df_byState_H1N1 = df_byState_H1N1.copy()\n",
    "df_byState_H1N1 = df_byState[df_byState['Subtype'] == 'H1N1']\n",
    "df_byState_H1N1.head(5)"
   ]
  },
  {
   "cell_type": "code",
   "execution_count": 38,
   "metadata": {
    "code_folding": [
     0
    ]
   },
   "outputs": [],
   "source": [
    "data_H1N1 = dict(\n",
    "        type = 'choropleth',\n",
    "        colorscale = 'Greens',\n",
    "        reversescale = True,\n",
    "        locations = df_byState_H1N1['abbrev'],\n",
    "        z = df_byState_H1N1['counts'],\n",
    "        locationmode = 'USA-states',\n",
    "        text = ['State/Province'],\n",
    "        marker = dict(line = dict(color = 'rgb(255,255,255)',width = 1)),\n",
    "        colorbar = {'title':'reported cases'}\n",
    "            ) "
   ]
  },
  {
   "cell_type": "code",
   "execution_count": 39,
   "metadata": {
    "code_folding": [
     0
    ]
   },
   "outputs": [],
   "source": [
    "layout = dict(title = 'Reported/Sequenced Influenza H1N1 for 2017-2018',\n",
    "              geo = dict(scope='usa',\n",
    "                         showlakes = True,\n",
    "                         lakecolor = 'rgb(85,173,240)')\n",
    "             )"
   ]
  },
  {
   "cell_type": "code",
   "execution_count": 40,
   "metadata": {},
   "outputs": [
    {
     "data": {
      "application/vnd.plotly.v1+json": {
       "data": [
        {
         "colorbar": {
          "title": "reported cases"
         },
         "colorscale": "Greens",
         "locationmode": "USA-states",
         "locations": [
          null,
          null,
          null,
          null,
          null,
          null,
          null,
          null,
          null,
          null,
          null,
          null,
          null,
          null,
          null,
          null,
          null,
          null,
          null,
          null,
          null,
          null,
          null,
          null,
          null,
          null,
          null,
          null,
          null,
          null,
          null,
          null,
          null,
          null,
          null,
          null,
          null,
          null,
          null,
          null,
          null,
          null,
          null,
          null,
          null,
          null,
          null,
          null,
          null,
          null,
          null
         ],
         "marker": {
          "line": {
           "color": "rgb(255,255,255)",
           "width": 1
          }
         },
         "reversescale": true,
         "text": [
          "State/Province"
         ],
         "type": "choropleth",
         "uid": "593c03ca-f3ff-11e8-bd6c-a45e60ee8a67",
         "z": [
          232,
          208,
          216,
          80,
          607,
          112,
          152,
          112,
          104,
          299,
          96,
          184,
          96,
          256,
          144,
          288,
          56,
          120,
          200,
          80,
          248,
          72,
          184,
          152,
          192,
          160,
          120,
          16,
          24,
          80,
          152,
          56,
          151,
          128,
          160,
          80,
          168,
          208,
          264,
          16,
          24,
          72,
          88,
          264,
          192,
          40,
          175,
          192,
          144,
          152,
          128
         ]
        }
       ],
       "layout": {
        "geo": {
         "lakecolor": "rgb(85,173,240)",
         "scope": "usa",
         "showlakes": true
        },
        "title": "Reported/Sequenced Influenza H1N1 for 2017-2018"
       }
      },
      "text/html": [
       "<div id=\"d2b87176-a49e-49b2-93f4-c6527edc7a7b\" style=\"height: 525px; width: 100%;\" class=\"plotly-graph-div\"></div><script type=\"text/javascript\">require([\"plotly\"], function(Plotly) { window.PLOTLYENV=window.PLOTLYENV || {};window.PLOTLYENV.BASE_URL=\"https://plot.ly\";Plotly.newPlot(\"d2b87176-a49e-49b2-93f4-c6527edc7a7b\", [{\"colorbar\": {\"title\": \"reported cases\"}, \"colorscale\": \"Greens\", \"locationmode\": \"USA-states\", \"locations\": [null, null, null, null, null, null, null, null, null, null, null, null, null, null, null, null, null, null, null, null, null, null, null, null, null, null, null, null, null, null, null, null, null, null, null, null, null, null, null, null, null, null, null, null, null, null, null, null, null, null, null], \"marker\": {\"line\": {\"color\": \"rgb(255,255,255)\", \"width\": 1}}, \"reversescale\": true, \"text\": [\"State/Province\"], \"z\": [232, 208, 216, 80, 607, 112, 152, 112, 104, 299, 96, 184, 96, 256, 144, 288, 56, 120, 200, 80, 248, 72, 184, 152, 192, 160, 120, 16, 24, 80, 152, 56, 151, 128, 160, 80, 168, 208, 264, 16, 24, 72, 88, 264, 192, 40, 175, 192, 144, 152, 128], \"type\": \"choropleth\", \"uid\": \"593c03ca-f3ff-11e8-bd6c-a45e60ee8a67\"}], {\"geo\": {\"lakecolor\": \"rgb(85,173,240)\", \"scope\": \"usa\", \"showlakes\": true}, \"title\": \"Reported/Sequenced Influenza H1N1 for 2017-2018\"}, {\"showLink\": true, \"linkText\": \"Export to plot.ly\"})});</script>"
      ],
      "text/vnd.plotly.v1+html": [
       "<div id=\"d2b87176-a49e-49b2-93f4-c6527edc7a7b\" style=\"height: 525px; width: 100%;\" class=\"plotly-graph-div\"></div><script type=\"text/javascript\">require([\"plotly\"], function(Plotly) { window.PLOTLYENV=window.PLOTLYENV || {};window.PLOTLYENV.BASE_URL=\"https://plot.ly\";Plotly.newPlot(\"d2b87176-a49e-49b2-93f4-c6527edc7a7b\", [{\"colorbar\": {\"title\": \"reported cases\"}, \"colorscale\": \"Greens\", \"locationmode\": \"USA-states\", \"locations\": [null, null, null, null, null, null, null, null, null, null, null, null, null, null, null, null, null, null, null, null, null, null, null, null, null, null, null, null, null, null, null, null, null, null, null, null, null, null, null, null, null, null, null, null, null, null, null, null, null, null, null], \"marker\": {\"line\": {\"color\": \"rgb(255,255,255)\", \"width\": 1}}, \"reversescale\": true, \"text\": [\"State/Province\"], \"z\": [232, 208, 216, 80, 607, 112, 152, 112, 104, 299, 96, 184, 96, 256, 144, 288, 56, 120, 200, 80, 248, 72, 184, 152, 192, 160, 120, 16, 24, 80, 152, 56, 151, 128, 160, 80, 168, 208, 264, 16, 24, 72, 88, 264, 192, 40, 175, 192, 144, 152, 128], \"type\": \"choropleth\", \"uid\": \"593c03ca-f3ff-11e8-bd6c-a45e60ee8a67\"}], {\"geo\": {\"lakecolor\": \"rgb(85,173,240)\", \"scope\": \"usa\", \"showlakes\": true}, \"title\": \"Reported/Sequenced Influenza H1N1 for 2017-2018\"}, {\"showLink\": true, \"linkText\": \"Export to plot.ly\"})});</script>"
      ]
     },
     "metadata": {},
     "output_type": "display_data"
    }
   ],
   "source": [
    "choromap = go.Figure(data = [data_H1N1],layout = layout)\n",
    "iplot(choromap,validate=False)"
   ]
  },
  {
   "cell_type": "code",
   "execution_count": 41,
   "metadata": {
    "code_folding": []
   },
   "outputs": [
    {
     "data": {
      "text/html": [
       "<div>\n",
       "<style scoped>\n",
       "    .dataframe tbody tr th:only-of-type {\n",
       "        vertical-align: middle;\n",
       "    }\n",
       "\n",
       "    .dataframe tbody tr th {\n",
       "        vertical-align: top;\n",
       "    }\n",
       "\n",
       "    .dataframe thead th {\n",
       "        text-align: right;\n",
       "    }\n",
       "</style>\n",
       "<table border=\"1\" class=\"dataframe\">\n",
       "  <thead>\n",
       "    <tr style=\"text-align: right;\">\n",
       "      <th></th>\n",
       "      <th>State/Province</th>\n",
       "      <th>Subtype</th>\n",
       "      <th>counts</th>\n",
       "      <th>abbrev</th>\n",
       "    </tr>\n",
       "  </thead>\n",
       "  <tbody>\n",
       "    <tr>\n",
       "      <th>1</th>\n",
       "      <td>Alabama</td>\n",
       "      <td>H3N2</td>\n",
       "      <td>207</td>\n",
       "      <td>NaN</td>\n",
       "    </tr>\n",
       "    <tr>\n",
       "      <th>3</th>\n",
       "      <td>Alaska</td>\n",
       "      <td>H3N2</td>\n",
       "      <td>462</td>\n",
       "      <td>NaN</td>\n",
       "    </tr>\n",
       "    <tr>\n",
       "      <th>5</th>\n",
       "      <td>Arizona</td>\n",
       "      <td>H3N2</td>\n",
       "      <td>392</td>\n",
       "      <td>NaN</td>\n",
       "    </tr>\n",
       "    <tr>\n",
       "      <th>7</th>\n",
       "      <td>Arkansas</td>\n",
       "      <td>H3N2</td>\n",
       "      <td>277</td>\n",
       "      <td>NaN</td>\n",
       "    </tr>\n",
       "    <tr>\n",
       "      <th>9</th>\n",
       "      <td>California</td>\n",
       "      <td>H3N2</td>\n",
       "      <td>1621</td>\n",
       "      <td>NaN</td>\n",
       "    </tr>\n",
       "  </tbody>\n",
       "</table>\n",
       "</div>"
      ],
      "text/plain": [
       "  State/Province Subtype  counts abbrev\n",
       "1        Alabama    H3N2     207    NaN\n",
       "3         Alaska    H3N2     462    NaN\n",
       "5        Arizona    H3N2     392    NaN\n",
       "7       Arkansas    H3N2     277    NaN\n",
       "9     California    H3N2    1621    NaN"
      ]
     },
     "execution_count": 41,
     "metadata": {},
     "output_type": "execute_result"
    }
   ],
   "source": [
    "# Here is a map for H3N2\n",
    "\n",
    "df_byState_H3N2 = df_byState[df_byState['Subtype'] == 'H3N2']\n",
    "df_byState_H3N2.head(5)"
   ]
  },
  {
   "cell_type": "code",
   "execution_count": 42,
   "metadata": {
    "code_folding": [
     0
    ]
   },
   "outputs": [],
   "source": [
    "data_H3N2 = dict(\n",
    "        type = 'choropleth',\n",
    "        colorscale = 'Blues',\n",
    "        reversescale = True,\n",
    "        locations = df_byState_H3N2['abbrev'],\n",
    "        z = df_byState_H3N2['counts'],\n",
    "        locationmode = 'USA-states',\n",
    "        text = ['State/Province'],\n",
    "        marker = dict(line = dict(color = 'rgb(255,255,255)',width = 1)),\n",
    "        colorbar = {'title':'reported cases'}\n",
    "            ) "
   ]
  },
  {
   "cell_type": "code",
   "execution_count": 43,
   "metadata": {
    "code_folding": [
     0
    ]
   },
   "outputs": [],
   "source": [
    "layout = dict(title = 'Reported/Sequenced Influenza H3N2 for 2017-2018',\n",
    "              geo = dict(scope='usa',\n",
    "                         showlakes = True,\n",
    "                         lakecolor = 'rgb(85,173,240)')\n",
    "             )"
   ]
  },
  {
   "cell_type": "code",
   "execution_count": 44,
   "metadata": {
    "scrolled": true
   },
   "outputs": [
    {
     "data": {
      "application/vnd.plotly.v1+json": {
       "data": [
        {
         "colorbar": {
          "title": "reported cases"
         },
         "colorscale": "Blues",
         "locationmode": "USA-states",
         "locations": [
          null,
          null,
          null,
          null,
          null,
          null,
          null,
          null,
          null,
          null,
          null,
          null,
          null,
          null,
          null,
          null,
          null,
          null,
          null,
          null,
          null,
          null,
          null,
          null,
          null,
          null,
          null,
          null,
          null,
          null,
          null,
          null,
          null,
          null,
          null,
          null,
          null,
          null,
          null,
          null,
          null,
          null,
          null,
          null,
          null,
          null,
          null,
          null,
          null,
          null,
          null
         ],
         "marker": {
          "line": {
           "color": "rgb(255,255,255)",
           "width": 1
          }
         },
         "reversescale": true,
         "text": [
          "State/Province"
         ],
         "type": "choropleth",
         "uid": "59983794-f3ff-11e8-bd6c-a45e60ee8a67",
         "z": [
          207,
          462,
          392,
          277,
          1621,
          232,
          276,
          264,
          176,
          736,
          280,
          398,
          264,
          487,
          231,
          640,
          231,
          198,
          216,
          183,
          463,
          160,
          270,
          240,
          120,
          400,
          464,
          144,
          181,
          192,
          207,
          232,
          359,
          285,
          271,
          152,
          224,
          175,
          312,
          56,
          96,
          383,
          207,
          544,
          277,
          128,
          295,
          311,
          184,
          320,
          208
         ]
        }
       ],
       "layout": {
        "geo": {
         "lakecolor": "rgb(85,173,240)",
         "scope": "usa",
         "showlakes": true
        },
        "title": "Reported/Sequenced Influenza H3N2 for 2017-2018"
       }
      },
      "text/html": [
       "<div id=\"f3400af7-bad2-4113-9245-7b3e6a559c1b\" style=\"height: 525px; width: 100%;\" class=\"plotly-graph-div\"></div><script type=\"text/javascript\">require([\"plotly\"], function(Plotly) { window.PLOTLYENV=window.PLOTLYENV || {};window.PLOTLYENV.BASE_URL=\"https://plot.ly\";Plotly.newPlot(\"f3400af7-bad2-4113-9245-7b3e6a559c1b\", [{\"colorbar\": {\"title\": \"reported cases\"}, \"colorscale\": \"Blues\", \"locationmode\": \"USA-states\", \"locations\": [null, null, null, null, null, null, null, null, null, null, null, null, null, null, null, null, null, null, null, null, null, null, null, null, null, null, null, null, null, null, null, null, null, null, null, null, null, null, null, null, null, null, null, null, null, null, null, null, null, null, null], \"marker\": {\"line\": {\"color\": \"rgb(255,255,255)\", \"width\": 1}}, \"reversescale\": true, \"text\": [\"State/Province\"], \"z\": [207, 462, 392, 277, 1621, 232, 276, 264, 176, 736, 280, 398, 264, 487, 231, 640, 231, 198, 216, 183, 463, 160, 270, 240, 120, 400, 464, 144, 181, 192, 207, 232, 359, 285, 271, 152, 224, 175, 312, 56, 96, 383, 207, 544, 277, 128, 295, 311, 184, 320, 208], \"type\": \"choropleth\", \"uid\": \"59983794-f3ff-11e8-bd6c-a45e60ee8a67\"}], {\"geo\": {\"lakecolor\": \"rgb(85,173,240)\", \"scope\": \"usa\", \"showlakes\": true}, \"title\": \"Reported/Sequenced Influenza H3N2 for 2017-2018\"}, {\"showLink\": true, \"linkText\": \"Export to plot.ly\"})});</script>"
      ],
      "text/vnd.plotly.v1+html": [
       "<div id=\"f3400af7-bad2-4113-9245-7b3e6a559c1b\" style=\"height: 525px; width: 100%;\" class=\"plotly-graph-div\"></div><script type=\"text/javascript\">require([\"plotly\"], function(Plotly) { window.PLOTLYENV=window.PLOTLYENV || {};window.PLOTLYENV.BASE_URL=\"https://plot.ly\";Plotly.newPlot(\"f3400af7-bad2-4113-9245-7b3e6a559c1b\", [{\"colorbar\": {\"title\": \"reported cases\"}, \"colorscale\": \"Blues\", \"locationmode\": \"USA-states\", \"locations\": [null, null, null, null, null, null, null, null, null, null, null, null, null, null, null, null, null, null, null, null, null, null, null, null, null, null, null, null, null, null, null, null, null, null, null, null, null, null, null, null, null, null, null, null, null, null, null, null, null, null, null], \"marker\": {\"line\": {\"color\": \"rgb(255,255,255)\", \"width\": 1}}, \"reversescale\": true, \"text\": [\"State/Province\"], \"z\": [207, 462, 392, 277, 1621, 232, 276, 264, 176, 736, 280, 398, 264, 487, 231, 640, 231, 198, 216, 183, 463, 160, 270, 240, 120, 400, 464, 144, 181, 192, 207, 232, 359, 285, 271, 152, 224, 175, 312, 56, 96, 383, 207, 544, 277, 128, 295, 311, 184, 320, 208], \"type\": \"choropleth\", \"uid\": \"59983794-f3ff-11e8-bd6c-a45e60ee8a67\"}], {\"geo\": {\"lakecolor\": \"rgb(85,173,240)\", \"scope\": \"usa\", \"showlakes\": true}, \"title\": \"Reported/Sequenced Influenza H3N2 for 2017-2018\"}, {\"showLink\": true, \"linkText\": \"Export to plot.ly\"})});</script>"
      ]
     },
     "metadata": {},
     "output_type": "display_data"
    }
   ],
   "source": [
    "choromap = go.Figure(data = [data_H3N2],layout = layout)\n",
    "iplot(choromap,validate=False)"
   ]
  },
  {
   "cell_type": "markdown",
   "metadata": {},
   "source": [
    "Now that there's a general idea of what this dataset holds, in my next analysis I will download sequences for analysis. To be continued..."
   ]
  },
  {
   "cell_type": "markdown",
   "metadata": {},
   "source": [
    "  \n",
    "  "
   ]
  }
 ],
 "metadata": {
  "kernelspec": {
   "display_name": "Python 3",
   "language": "python",
   "name": "python3"
  },
  "language_info": {
   "codemirror_mode": {
    "name": "ipython",
    "version": 3
   },
   "file_extension": ".py",
   "mimetype": "text/x-python",
   "name": "python",
   "nbconvert_exporter": "python",
   "pygments_lexer": "ipython3",
   "version": "3.7.0"
  }
 },
 "nbformat": 4,
 "nbformat_minor": 2
}
